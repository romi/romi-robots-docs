{
 "cells": [
  {
   "cell_type": "markdown",
   "metadata": {},
   "source": [
    "# HowTo -Colmap- From RGB images to camera poses"
   ]
  },
  {
   "cell_type": "markdown",
   "metadata": {},
   "source": [
    "In this notebook you will learn:\n",
    "\n",
    "1. how to connect to a ROMI database\n",
    "2. how to use our custom Python wrapper around Colmap to estimate camera poses (extrinsic parameters)\n",
    "3. how to compare them to the requested CNC camera poses"
   ]
  },
  {
   "cell_type": "markdown",
   "metadata": {},
   "source": [
    "This notebook **assume** that you have:\n",
    "- declared the `ROMI_DB` environment variable as the path to the database directory to use\n",
    "- processed the test dataset with the _geometric pipeline,_ so we can access the fileset containing the data we want to start with..."
   ]
  },
  {
   "cell_type": "markdown",
   "metadata": {
    "collapsed": false
   },
   "source": [
    "Remember, the aim of this notebook is to show you how it works \"under the hood\".\n",
    "This is not how you should process your data, that is done thanks to the `romi_run_task` CLI tool."
   ]
  },
  {
   "cell_type": "code",
   "execution_count": null,
   "metadata": {
    "execution": {
     "iopub.execute_input": "2023-06-22T14:20:29.610740Z",
     "iopub.status.busy": "2023-06-22T14:20:29.610563Z",
     "iopub.status.idle": "2023-06-22T14:20:29.898795Z",
     "shell.execute_reply": "2023-06-22T14:20:29.898307Z"
    }
   },
   "outputs": [],
   "source": [
    "%matplotlib inline"
   ]
  },
  {
   "cell_type": "code",
   "execution_count": null,
   "metadata": {
    "execution": {
     "iopub.execute_input": "2023-06-22T14:20:29.900608Z",
     "iopub.status.busy": "2023-06-22T14:20:29.900436Z",
     "iopub.status.idle": "2023-06-22T14:20:31.288503Z",
     "shell.execute_reply": "2023-06-22T14:20:31.287805Z"
    }
   },
   "outputs": [],
   "source": [
    "import os\n",
    "\n",
    "import ipywidgets as widgets\n",
    "from plant3dvision.calibration import pose_estimation_figure\n",
    "from plant3dvision.colmap import ColmapRunner\n",
    "from plant3dvision.colmap import colmap_points_to_pcd\n",
    "from plant3dvision.tasks.colmap import get_image_poses, get_cnc_poses\n",
    "from plant3dvision.visu import plotly_pointcloud, plotly_image_carousel\n",
    "from plantdb import FSDB"
   ]
  },
  {
   "cell_type": "markdown",
   "metadata": {},
   "source": [
    "## Connect to the database & get the initial data"
   ]
  },
  {
   "cell_type": "markdown",
   "metadata": {
    "collapsed": false
   },
   "source": [
    "If you did not declare a `ROMI_DB` environment variable, you can do it by uncommenting the next cell and setting it to the right value."
   ]
  },
  {
   "cell_type": "code",
   "execution_count": null,
   "metadata": {
    "execution": {
     "iopub.execute_input": "2023-06-22T14:20:31.290460Z",
     "iopub.status.busy": "2023-06-22T14:20:31.290220Z",
     "iopub.status.idle": "2023-06-22T14:20:31.292918Z",
     "shell.execute_reply": "2023-06-22T14:20:31.292355Z"
    }
   },
   "outputs": [],
   "source": [
    "# os.environ['ROMI_DB'] = \"/path/to/test/data\""
   ]
  },
  {
   "cell_type": "markdown",
   "metadata": {},
   "source": [
    "### Connect to the database"
   ]
  },
  {
   "cell_type": "code",
   "execution_count": null,
   "metadata": {
    "execution": {
     "iopub.execute_input": "2023-06-22T14:20:31.294734Z",
     "iopub.status.busy": "2023-06-22T14:20:31.294595Z",
     "iopub.status.idle": "2023-06-22T14:20:31.421918Z",
     "shell.execute_reply": "2023-06-22T14:20:31.421376Z"
    }
   },
   "outputs": [],
   "source": [
    "db = FSDB(os.environ['ROMI_DB'])  # requires definition of this environment variable!\n",
    "db.connect()"
   ]
  },
  {
   "cell_type": "markdown",
   "metadata": {},
   "source": [
    "Once you are connected to the database, you can list the available scan *dataset* with `db.list_scans()`."
   ]
  },
  {
   "cell_type": "markdown",
   "metadata": {},
   "source": [
    "### Select a dataset\n",
    "\n",
    "We now select a dataset (with the `Dropdown` widget) for the demo:"
   ]
  },
  {
   "cell_type": "code",
   "execution_count": null,
   "metadata": {
    "execution": {
     "iopub.execute_input": "2023-06-22T14:20:31.423762Z",
     "iopub.status.busy": "2023-06-22T14:20:31.423615Z",
     "iopub.status.idle": "2023-06-22T14:20:31.429368Z",
     "shell.execute_reply": "2023-06-22T14:20:31.428813Z"
    }
   },
   "outputs": [],
   "source": [
    "scan_name = widgets.Dropdown(options=db.list_scans(), value=db.list_scans()[0], description='Dataset:')\n",
    "display(scan_name)"
   ]
  },
  {
   "cell_type": "code",
   "execution_count": null,
   "metadata": {
    "execution": {
     "iopub.execute_input": "2023-06-22T14:20:31.431044Z",
     "iopub.status.busy": "2023-06-22T14:20:31.430908Z",
     "iopub.status.idle": "2023-06-22T14:20:31.433046Z",
     "shell.execute_reply": "2023-06-22T14:20:31.432718Z"
    }
   },
   "outputs": [],
   "source": [
    "scan = db.get_scan(scan_name.value)"
   ]
  },
  {
   "cell_type": "markdown",
   "metadata": {
    "collapsed": false
   },
   "source": [
    "If you did not process this dataset yet, from the `plant3dvision` root directory, you can do it with:\n",
    "```\n",
    "romi_run_task AnglesAndInternodes $ROMI_DB/<selected_dataset> --config plant-3d-vision/configs/geom_pipe_real.toml\n",
    "```"
   ]
  },
  {
   "cell_type": "markdown",
   "metadata": {},
   "source": [
    "To list the available *filesets* in this *scan dataset*:"
   ]
  },
  {
   "cell_type": "code",
   "execution_count": null,
   "metadata": {
    "execution": {
     "iopub.execute_input": "2023-06-22T14:20:31.434546Z",
     "iopub.status.busy": "2023-06-22T14:20:31.434412Z",
     "iopub.status.idle": "2023-06-22T14:20:31.437408Z",
     "shell.execute_reply": "2023-06-22T14:20:31.436997Z"
    }
   },
   "outputs": [],
   "source": [
    "scan.list_filesets()"
   ]
  },
  {
   "cell_type": "markdown",
   "metadata": {},
   "source": [
    "### Get the RGB images fileset\n",
    "\n",
    "The RGB images resulting from a scan by the _Plant Imager_ are to be found in the 'images' fileset."
   ]
  },
  {
   "cell_type": "code",
   "execution_count": null,
   "metadata": {
    "execution": {
     "iopub.execute_input": "2023-06-22T14:20:31.438811Z",
     "iopub.status.busy": "2023-06-22T14:20:31.438674Z",
     "iopub.status.idle": "2023-06-22T14:20:31.440903Z",
     "shell.execute_reply": "2023-06-22T14:20:31.440489Z"
    }
   },
   "outputs": [],
   "source": [
    "img_fs = scan.get_fileset(\"images\")"
   ]
  },
  {
   "cell_type": "markdown",
   "metadata": {},
   "source": [
    "Once you have access to the 'images' fileset, you may access the RGB images as follows:"
   ]
  },
  {
   "cell_type": "code",
   "execution_count": null,
   "metadata": {
    "execution": {
     "iopub.execute_input": "2023-06-22T14:20:31.442468Z",
     "iopub.status.busy": "2023-06-22T14:20:31.442338Z",
     "iopub.status.idle": "2023-06-22T14:20:31.444723Z",
     "shell.execute_reply": "2023-06-22T14:20:31.444271Z"
    }
   },
   "outputs": [],
   "source": [
    "img_files = img_fs.get_files(query={\"channel\": \"rgb\"})"
   ]
  },
  {
   "cell_type": "code",
   "execution_count": null,
   "metadata": {
    "execution": {
     "iopub.execute_input": "2023-06-22T14:20:31.446210Z",
     "iopub.status.busy": "2023-06-22T14:20:31.446073Z",
     "iopub.status.idle": "2023-06-22T14:20:31.448450Z",
     "shell.execute_reply": "2023-06-22T14:20:31.448041Z"
    }
   },
   "outputs": [],
   "source": [
    "print(f\"This fileset contains {len(img_files)} files (matching the `query`).\")"
   ]
  },
  {
   "cell_type": "markdown",
   "metadata": {},
   "source": [
    "### Visualize the RGB images fileset\n",
    "\n",
    "It is possible to visualize the set of RGB images using our `plotly_image_carousel` method."
   ]
  },
  {
   "cell_type": "code",
   "execution_count": null,
   "metadata": {
    "execution": {
     "iopub.execute_input": "2023-06-22T14:20:31.449913Z",
     "iopub.status.busy": "2023-06-22T14:20:31.449778Z",
     "iopub.status.idle": "2023-06-22T14:20:34.491676Z",
     "shell.execute_reply": "2023-06-22T14:20:34.491115Z"
    }
   },
   "outputs": [],
   "source": [
    "fig = plotly_image_carousel(img_files, title=scan_name.value)"
   ]
  },
  {
   "cell_type": "code",
   "execution_count": null,
   "metadata": {
    "execution": {
     "iopub.execute_input": "2023-06-22T14:20:34.493469Z",
     "iopub.status.busy": "2023-06-22T14:20:34.493324Z",
     "iopub.status.idle": "2023-06-22T14:20:35.246557Z",
     "shell.execute_reply": "2023-06-22T14:20:35.245990Z"
    }
   },
   "outputs": [],
   "source": [
    "fig.show()"
   ]
  },
  {
   "cell_type": "markdown",
   "metadata": {},
   "source": [
    "## Estimate camera poses with Colmap\n",
    "\n",
    "As stated by the introduction of Colmap's tutorial:\n",
    "> Image-based 3D reconstruction from images traditionally first recovers a sparse representation of the scene and the camera poses of the input images using Structure-from-Motion.\n",
    "[Source](https://colmap.github.io/tutorial.html)\n",
    "\n",
    "This is exactly what we want to achieve here, to _recover the camera poses of the input image_.\n",
    "These, in combination with masks localizing the plant in the images, will later be used to reconstruct a volume using a *voxel carving* approach.\n",
    "\n",
    "For now, let's focus on how to obtain these _camera poses_."
   ]
  },
  {
   "cell_type": "code",
   "execution_count": null,
   "metadata": {
    "execution": {
     "iopub.execute_input": "2023-06-22T14:20:35.444801Z",
     "iopub.status.busy": "2023-06-22T14:20:35.444440Z",
     "iopub.status.idle": "2023-06-22T14:20:35.447123Z",
     "shell.execute_reply": "2023-06-22T14:20:35.446604Z"
    }
   },
   "outputs": [],
   "source": [
    "gpu_args = {\"feature_extractor\": {\"--ImageReader.single_camera\": \"1\", \"--SiftExtraction.use_gpu\": \"1\"}}"
   ]
  },
  {
   "cell_type": "code",
   "execution_count": null,
   "metadata": {
    "execution": {
     "iopub.execute_input": "2023-06-22T14:20:35.448717Z",
     "iopub.status.busy": "2023-06-22T14:20:35.448583Z",
     "iopub.status.idle": "2023-06-22T14:20:35.843738Z",
     "shell.execute_reply": "2023-06-22T14:20:35.843104Z"
    }
   },
   "outputs": [],
   "source": [
    "colmap = ColmapRunner(img_files, matcher_method=\"exhaustive\", all_cli_args=gpu_args)"
   ]
  },
  {
   "cell_type": "markdown",
   "metadata": {},
   "source": [
    "Note that we use the **exhaustive** matching method.\n",
    "As these scans have been acquired in sequential order by rotating around the plant, we could use the **sequential** matching method.\n",
    "\n",
    "However, as we plan to use more complex path than a circular path around the plant, or we could use dataset acquired by other sources, we use the **exhaustive** method by default.\n",
    "\n",
    "As per the official documentation about the **exhaustive** matching method:\n",
    "> If the number of images in your dataset is relatively low (up to several hundreds), this matching mode should be fast enough and leads to the best reconstruction results.\n",
    "\n",
    "As we plan to use fewer images than \"several hundreds\", we stick with the **exhaustive** matching method."
   ]
  },
  {
   "cell_type": "markdown",
   "metadata": {},
   "source": [
    "### Extract image features\n",
    "\n",
    "As per the official documentation:\n",
    "\n",
    "> In the first step, feature detection/extraction finds sparse feature points in the image and describes their appearance using a numerical descriptor."
   ]
  },
  {
   "cell_type": "code",
   "execution_count": null,
   "metadata": {
    "execution": {
     "iopub.execute_input": "2023-06-22T14:20:35.846295Z",
     "iopub.status.busy": "2023-06-22T14:20:35.845944Z",
     "iopub.status.idle": "2023-06-22T14:20:39.146894Z",
     "shell.execute_reply": "2023-06-22T14:20:39.146300Z"
    }
   },
   "outputs": [],
   "source": [
    "colmap.feature_extractor()"
   ]
  },
  {
   "cell_type": "markdown",
   "metadata": {},
   "source": [
    "### Match extracted features from images\n",
    "\n",
    "As per the official documentation:\n",
    "\n",
    "> In the second step, feature matching and geometric verification finds correspondences between the feature points in different images."
   ]
  },
  {
   "cell_type": "code",
   "execution_count": null,
   "metadata": {
    "execution": {
     "iopub.execute_input": "2023-06-22T14:20:39.148962Z",
     "iopub.status.busy": "2023-06-22T14:20:39.148705Z",
     "iopub.status.idle": "2023-06-22T14:20:46.293098Z",
     "shell.execute_reply": "2023-06-22T14:20:46.292403Z"
    }
   },
   "outputs": [],
   "source": [
    "colmap.matcher()"
   ]
  },
  {
   "cell_type": "markdown",
   "metadata": {},
   "source": [
    "### Sparse point cloud reconstruction\n",
    "\n",
    "As per the official documentation:\n",
    "\n",
    "> After producing the scene graph in the previous two steps, you can start the incremental reconstruction process"
   ]
  },
  {
   "cell_type": "code",
   "execution_count": null,
   "metadata": {
    "execution": {
     "iopub.execute_input": "2023-06-22T14:20:46.295614Z",
     "iopub.status.busy": "2023-06-22T14:20:46.295404Z",
     "iopub.status.idle": "2023-06-22T14:21:37.780626Z",
     "shell.execute_reply": "2023-06-22T14:21:37.779945Z"
    }
   },
   "outputs": [],
   "source": [
    "colmap.mapper()"
   ]
  },
  {
   "cell_type": "markdown",
   "metadata": {},
   "source": [
    "### Align sparse point cloud to coordinate system of given camera centers\n",
    "\n",
    "This step is not mandatory, but quite useful to get a similar coordinate orientation as you might expect with the _Plant Imager_.\n",
    "It aims at aligning the sparse model to coordinate system of given camera centers.\n",
    "\n",
    "This use the _approximate poses_ given by the _Plant Imager_ (CNC)."
   ]
  },
  {
   "cell_type": "code",
   "execution_count": null,
   "metadata": {
    "execution": {
     "iopub.execute_input": "2023-06-22T14:21:37.782851Z",
     "iopub.status.busy": "2023-06-22T14:21:37.782678Z",
     "iopub.status.idle": "2023-06-22T14:21:38.366992Z",
     "shell.execute_reply": "2023-06-22T14:21:38.366031Z"
    }
   },
   "outputs": [],
   "source": [
    "colmap.model_aligner()"
   ]
  },
  {
   "cell_type": "markdown",
   "metadata": {},
   "source": [
    "### Visualize Colmap sparse point cloud\n",
    "\n",
    "Once we obtained the sparse point cloud with Colmap, it is time to have a look at it:"
   ]
  },
  {
   "cell_type": "code",
   "execution_count": null,
   "metadata": {
    "execution": {
     "iopub.execute_input": "2023-06-22T14:21:38.369276Z",
     "iopub.status.busy": "2023-06-22T14:21:38.368999Z",
     "iopub.status.idle": "2023-06-22T14:21:38.486319Z",
     "shell.execute_reply": "2023-06-22T14:21:38.485790Z"
    }
   },
   "outputs": [],
   "source": [
    "sparse_pcd = colmap_points_to_pcd(f'{colmap.sparse_dir}/0/points3D.bin')\n",
    "fig = plotly_pointcloud(sparse_pcd)"
   ]
  },
  {
   "cell_type": "code",
   "execution_count": null,
   "metadata": {
    "execution": {
     "iopub.execute_input": "2023-06-22T14:21:38.488108Z",
     "iopub.status.busy": "2023-06-22T14:21:38.487960Z",
     "iopub.status.idle": "2023-06-22T14:21:38.522750Z",
     "shell.execute_reply": "2023-06-22T14:21:38.522232Z"
    }
   },
   "outputs": [],
   "source": [
    "fig.show()"
   ]
  },
  {
   "cell_type": "markdown",
   "metadata": {},
   "source": [
    "### Access the estimated poses"
   ]
  },
  {
   "cell_type": "markdown",
   "metadata": {},
   "source": [
    "Estimated camera poses (extrinsic parameter) are saved as image metadata:"
   ]
  },
  {
   "cell_type": "code",
   "execution_count": null,
   "metadata": {
    "execution": {
     "iopub.execute_input": "2023-06-22T14:21:38.532687Z",
     "iopub.status.busy": "2023-06-22T14:21:38.532509Z",
     "iopub.status.idle": "2023-06-22T14:21:38.537025Z",
     "shell.execute_reply": "2023-06-22T14:21:38.536555Z"
    }
   },
   "outputs": [],
   "source": [
    "img_files[0].get_metadata(\"estimated_pose\")  # XYZ coordinates"
   ]
  },
  {
   "cell_type": "markdown",
   "metadata": {},
   "source": [
    "Using the `get_image_poses` method from `plant3dvision.tasks.colmap`, you can retrieve all of them at once:"
   ]
  },
  {
   "cell_type": "code",
   "execution_count": null,
   "metadata": {
    "execution": {
     "iopub.execute_input": "2023-06-22T14:21:38.538594Z",
     "iopub.status.busy": "2023-06-22T14:21:38.538448Z",
     "iopub.status.idle": "2023-06-22T14:21:38.540887Z",
     "shell.execute_reply": "2023-06-22T14:21:38.540562Z"
    }
   },
   "outputs": [],
   "source": [
    "colmap_poses = get_image_poses(scan, md=\"estimated_pose\")"
   ]
  },
  {
   "cell_type": "code",
   "execution_count": null,
   "metadata": {
    "execution": {
     "iopub.execute_input": "2023-06-22T14:21:38.542555Z",
     "iopub.status.busy": "2023-06-22T14:21:38.542419Z",
     "iopub.status.idle": "2023-06-22T14:21:38.545493Z",
     "shell.execute_reply": "2023-06-22T14:21:38.545150Z"
    }
   },
   "outputs": [],
   "source": [
    "colmap_poses['00000_rgb']  # XYZ coordinates"
   ]
  },
  {
   "cell_type": "markdown",
   "metadata": {},
   "source": [
    "## Compare to expected poses from the _Plant Imager_\n",
    "\n",
    "It is now time to compare the _estimated poses_ with the _expected poses_, also called _approximate poses_ in the metadata, from the _Plant Imager_.\n",
    "\n",
    "Indeed, our goal here is to \"refine\" the _expected poses_ with Colmap as we know that our _Plant Imager_ robot is not perfect, especially the \"cheap\" motors work in an **open loop**."
   ]
  },
  {
   "cell_type": "markdown",
   "metadata": {},
   "source": [
    "### Get approximate poses\n",
    "\n",
    "Using the `get_cnc_poses` method from `plant3dvision.tasks.colmap`, you can retrieve all of them at once:"
   ]
  },
  {
   "cell_type": "code",
   "execution_count": null,
   "metadata": {
    "execution": {
     "iopub.execute_input": "2023-06-22T14:21:38.547193Z",
     "iopub.status.busy": "2023-06-22T14:21:38.547060Z",
     "iopub.status.idle": "2023-06-22T14:21:38.549455Z",
     "shell.execute_reply": "2023-06-22T14:21:38.549132Z"
    }
   },
   "outputs": [],
   "source": [
    "cnc_poses = get_cnc_poses(scan)"
   ]
  },
  {
   "cell_type": "markdown",
   "metadata": {},
   "source": [
    "### Visualize Colmap estimated poses deviation from approximate poses\n",
    "\n",
    "You may easily generate a visual comparison of _estimated poses_ versus _approximate poses_ using the `pose_estimation_figure` from `plant3dvision.calibration`."
   ]
  },
  {
   "cell_type": "code",
   "execution_count": null,
   "metadata": {
    "execution": {
     "iopub.execute_input": "2023-06-22T14:21:38.551547Z",
     "iopub.status.busy": "2023-06-22T14:21:38.551344Z",
     "iopub.status.idle": "2023-06-22T14:21:39.284227Z",
     "shell.execute_reply": "2023-06-22T14:21:39.283715Z"
    }
   },
   "outputs": [],
   "source": [
    "fig = pose_estimation_figure(cnc_poses, colmap_poses, pred_scan_id=scan.id, suffix=\"_estimated\")"
   ]
  },
  {
   "cell_type": "markdown",
   "metadata": {},
   "source": [
    "We may now **disconnect** from the database as we will not need it anymore:"
   ]
  },
  {
   "cell_type": "code",
   "execution_count": null,
   "metadata": {
    "execution": {
     "iopub.execute_input": "2023-06-22T14:21:39.285866Z",
     "iopub.status.busy": "2023-06-22T14:21:39.285700Z",
     "iopub.status.idle": "2023-06-22T14:21:39.288967Z",
     "shell.execute_reply": "2023-06-22T14:21:39.288495Z"
    }
   },
   "outputs": [],
   "source": [
    "db.disconnect()"
   ]
  }
 ],
 "metadata": {
  "kernelspec": {
   "display_name": "Python 3 (ipykernel)",
   "language": "python",
   "name": "python3"
  },
  "language_info": {
   "codemirror_mode": {
    "name": "ipython",
    "version": 3
   },
   "file_extension": ".py",
   "mimetype": "text/x-python",
   "name": "python",
   "nbconvert_exporter": "python",
   "pygments_lexer": "ipython3",
   "version": "3.9.16"
  },
  "widgets": {
   "application/vnd.jupyter.widget-state+json": {
    "state": {
     "3ad16f9e7e1c4be78dac3b9f6374f8b0": {
      "model_module": "@jupyter-widgets/controls",
      "model_module_version": "2.0.0",
      "model_name": "DescriptionStyleModel",
      "state": {
       "_model_module": "@jupyter-widgets/controls",
       "_model_module_version": "2.0.0",
       "_model_name": "DescriptionStyleModel",
       "_view_count": null,
       "_view_module": "@jupyter-widgets/base",
       "_view_module_version": "2.0.0",
       "_view_name": "StyleView",
       "description_width": ""
      }
     },
     "66ba0b9f3ebf4640b9a38798b4afbf29": {
      "model_module": "@jupyter-widgets/base",
      "model_module_version": "2.0.0",
      "model_name": "LayoutModel",
      "state": {
       "_model_module": "@jupyter-widgets/base",
       "_model_module_version": "2.0.0",
       "_model_name": "LayoutModel",
       "_view_count": null,
       "_view_module": "@jupyter-widgets/base",
       "_view_module_version": "2.0.0",
       "_view_name": "LayoutView",
       "align_content": null,
       "align_items": null,
       "align_self": null,
       "border_bottom": null,
       "border_left": null,
       "border_right": null,
       "border_top": null,
       "bottom": null,
       "display": null,
       "flex": null,
       "flex_flow": null,
       "grid_area": null,
       "grid_auto_columns": null,
       "grid_auto_flow": null,
       "grid_auto_rows": null,
       "grid_column": null,
       "grid_gap": null,
       "grid_row": null,
       "grid_template_areas": null,
       "grid_template_columns": null,
       "grid_template_rows": null,
       "height": null,
       "justify_content": null,
       "justify_items": null,
       "left": null,
       "margin": null,
       "max_height": null,
       "max_width": null,
       "min_height": null,
       "min_width": null,
       "object_fit": null,
       "object_position": null,
       "order": null,
       "overflow": null,
       "padding": null,
       "right": null,
       "top": null,
       "visibility": null,
       "width": null
      }
     },
     "bbeffc6de4c04b9ba70149a144f13957": {
      "model_module": "@jupyter-widgets/controls",
      "model_module_version": "2.0.0",
      "model_name": "DropdownModel",
      "state": {
       "_dom_classes": [],
       "_model_module": "@jupyter-widgets/controls",
       "_model_module_version": "2.0.0",
       "_model_name": "DropdownModel",
       "_options_labels": [
        "Col0_20220803_2_1_calib_geom_4_marche",
        "Ler_20220803_1_1_calib_geom_3",
        "Ler_20220803_2_1"
       ],
       "_view_count": null,
       "_view_module": "@jupyter-widgets/controls",
       "_view_module_version": "2.0.0",
       "_view_name": "DropdownView",
       "description": "Dataset:",
       "description_allow_html": false,
       "disabled": false,
       "index": 0,
       "layout": "IPY_MODEL_66ba0b9f3ebf4640b9a38798b4afbf29",
       "style": "IPY_MODEL_3ad16f9e7e1c4be78dac3b9f6374f8b0",
       "tabbable": null,
       "tooltip": null
      }
     }
    },
    "version_major": 2,
    "version_minor": 0
   }
  }
 },
 "nbformat": 4,
 "nbformat_minor": 1
}
