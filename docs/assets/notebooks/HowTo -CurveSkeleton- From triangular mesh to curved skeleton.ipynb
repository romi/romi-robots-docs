{
 "cells": [
  {
   "cell_type": "markdown",
   "id": "136662bc",
   "metadata": {},
   "source": [
    "# HowTo -CurveSkeleton- From triangular mesh to curved skeleton"
   ]
  },
  {
   "cell_type": "markdown",
   "id": "e7cef605",
   "metadata": {},
   "source": [
    "In this notebook you will learn:\n",
    "\n",
    "1. how to connect to a ROMI database\n",
    "2. how to transform a triangular mesh in a skeleton\n",
    "3. how to visualize the skeleton"
   ]
  },
  {
   "cell_type": "markdown",
   "id": "17e9c707",
   "metadata": {},
   "source": [
    "This notebook **assume** that you have:\n",
    "- declared the `DB_LOCATION` environment variable as the path to the database directory to use\n",
    "- processed the test dataset with the _geometric pipeline,_ so we can access the fileset containing the data we want to start with..."
   ]
  },
  {
   "cell_type": "markdown",
   "id": "57c40dea",
   "metadata": {},
   "source": [
    "Remember, the aim of this notebook is to show you how it works \"under the hood\".\n",
    "This is not how you should process your data, that is done thanks to the `romi_run_task` CLI tool."
   ]
  },
  {
   "cell_type": "code",
   "execution_count": null,
   "id": "6e82377d",
   "metadata": {
    "execution": {
     "iopub.execute_input": "2023-06-22T14:21:41.109578Z",
     "iopub.status.busy": "2023-06-22T14:21:41.109445Z",
     "iopub.status.idle": "2023-06-22T14:21:42.888770Z",
     "shell.execute_reply": "2023-06-22T14:21:42.888099Z"
    }
   },
   "outputs": [],
   "source": [
    "import os\n",
    "\n",
    "import ipywidgets as widgets\n",
    "import plotly.graph_objects as go\n",
    "from plant3dvision.proc3d import skeletonize\n",
    "from plant3dvision.visu import plotly_mesh, plotly_skeleton, plotly_mesh_data, plotly_skeleton_data\n",
    "from plantdb.fsdb import FSDB\n",
    "from plantdb.io import read_triangle_mesh"
   ]
  },
  {
   "cell_type": "markdown",
   "id": "ae5e2539",
   "metadata": {},
   "source": [
    "# Connect to the database & get the initial data"
   ]
  },
  {
   "cell_type": "markdown",
   "id": "328e64ad",
   "metadata": {},
   "source": [
    "If you did not declare a `DB_LOCATION` environment variable, you can do it by uncommenting the next cell and setting it to the right value."
   ]
  },
  {
   "cell_type": "code",
   "execution_count": null,
   "id": "fa0ee727",
   "metadata": {
    "execution": {
     "iopub.execute_input": "2023-06-22T14:21:42.890835Z",
     "iopub.status.busy": "2023-06-22T14:21:42.890566Z",
     "iopub.status.idle": "2023-06-22T14:21:42.892898Z",
     "shell.execute_reply": "2023-06-22T14:21:42.892550Z"
    }
   },
   "outputs": [],
   "source": [
    "# os.environ['DB_LOCATION'] = \"/path/to/test/data\""
   ]
  },
  {
   "cell_type": "markdown",
   "id": "37d11114",
   "metadata": {},
   "source": [
    "### Connect to the database"
   ]
  },
  {
   "cell_type": "code",
   "execution_count": null,
   "id": "ed0c4a3a",
   "metadata": {
    "execution": {
     "iopub.execute_input": "2023-06-22T14:21:42.894797Z",
     "iopub.status.busy": "2023-06-22T14:21:42.894639Z",
     "iopub.status.idle": "2023-06-22T14:21:42.960584Z",
     "shell.execute_reply": "2023-06-22T14:21:42.959988Z"
    }
   },
   "outputs": [],
   "source": [
    "db = FSDB(os.environ['DB_LOCATION'])  # requires definition of this environment variable!\n",
    "db.connect()"
   ]
  },
  {
   "cell_type": "markdown",
   "id": "3d55be51",
   "metadata": {},
   "source": [
    "Once you are connected to the database, you can list the available scan *dataset* with `db.list_scans()`."
   ]
  },
  {
   "cell_type": "markdown",
   "id": "24715d0b",
   "metadata": {},
   "source": [
    "### Select a dataset\n",
    "\n",
    "We now select a dataset (with the `Dropdown` widget) for the demo:"
   ]
  },
  {
   "cell_type": "code",
   "execution_count": null,
   "id": "5cc0dc75",
   "metadata": {
    "execution": {
     "iopub.execute_input": "2023-06-22T14:21:42.962534Z",
     "iopub.status.busy": "2023-06-22T14:21:42.962377Z",
     "iopub.status.idle": "2023-06-22T14:21:42.968564Z",
     "shell.execute_reply": "2023-06-22T14:21:42.968117Z"
    }
   },
   "outputs": [],
   "source": [
    "scan_name = widgets.Dropdown(options=db.list_scans(), value=db.list_scans()[0], description='Dataset:')\n",
    "display(scan_name)"
   ]
  },
  {
   "cell_type": "code",
   "execution_count": null,
   "id": "0e64b47d",
   "metadata": {
    "execution": {
     "iopub.execute_input": "2023-06-22T14:21:42.970269Z",
     "iopub.status.busy": "2023-06-22T14:21:42.970130Z",
     "iopub.status.idle": "2023-06-22T14:21:42.972657Z",
     "shell.execute_reply": "2023-06-22T14:21:42.972192Z"
    }
   },
   "outputs": [],
   "source": [
    "scan = db.get_scan(scan_name.value)"
   ]
  },
  {
   "cell_type": "markdown",
   "id": "bded2655",
   "metadata": {},
   "source": [
    "If you did not process this dataset yet, from the `plant3dvision` root directory, you can do it with:\n",
    "```\n",
    "romi_run_task AnglesAndInternodes $DB_LOCATION/<selected_dataset> --config plant-3d-vision/config/geom_pipe_real.toml\n",
    "```"
   ]
  },
  {
   "cell_type": "markdown",
   "id": "1fad9fd7",
   "metadata": {},
   "source": [
    "To list the available *filesets* in this *scan dataset*:"
   ]
  },
  {
   "cell_type": "code",
   "execution_count": null,
   "id": "63b91e73",
   "metadata": {
    "execution": {
     "iopub.execute_input": "2023-06-22T14:21:42.974373Z",
     "iopub.status.busy": "2023-06-22T14:21:42.974070Z",
     "iopub.status.idle": "2023-06-22T14:21:42.977249Z",
     "shell.execute_reply": "2023-06-22T14:21:42.976928Z"
    }
   },
   "outputs": [],
   "source": [
    "scan.list_filesets()"
   ]
  },
  {
   "cell_type": "markdown",
   "id": "ca67ea4c",
   "metadata": {},
   "source": [
    "### Get the triangle mesh fileset\n",
    "\n",
    "The triangular mesh resulting from a _TriangleMesh_ task is to be found in the 'TriangleMesh*' fileset."
   ]
  },
  {
   "cell_type": "code",
   "execution_count": null,
   "id": "7d946b33",
   "metadata": {
    "execution": {
     "iopub.execute_input": "2023-06-22T14:21:42.978806Z",
     "iopub.status.busy": "2023-06-22T14:21:42.978670Z",
     "iopub.status.idle": "2023-06-22T14:21:42.981457Z",
     "shell.execute_reply": "2023-06-22T14:21:42.981120Z"
    }
   },
   "outputs": [],
   "source": [
    "mesh_fs = scan.get_filesets(query={\"task_name\": \"TriangleMesh\"})[0]\n",
    "print(mesh_fs.path().stem)"
   ]
  },
  {
   "cell_type": "markdown",
   "id": "762dfad6",
   "metadata": {},
   "source": [
    "### Get and load the triangular mesh file\n",
    "\n",
    "Once you have access to the right fileset, you may access the triangular mesh file and load it as follows:"
   ]
  },
  {
   "cell_type": "code",
   "execution_count": null,
   "id": "5599fa90",
   "metadata": {
    "execution": {
     "iopub.execute_input": "2023-06-22T14:21:42.983024Z",
     "iopub.status.busy": "2023-06-22T14:21:42.982740Z",
     "iopub.status.idle": "2023-06-22T14:21:43.000630Z",
     "shell.execute_reply": "2023-06-22T14:21:43.000052Z"
    }
   },
   "outputs": [],
   "source": [
    "mesh_file = mesh_fs.get_files()[0]\n",
    "tmesh = read_triangle_mesh(mesh_file)"
   ]
  },
  {
   "cell_type": "markdown",
   "id": "2715214c",
   "metadata": {},
   "source": [
    "### Visualize the triangular mesh\n",
    "\n",
    "It is possible to visualize the triangular mesh with the `plotly_mesh` method from `plant3dvision.visu` as follows:"
   ]
  },
  {
   "cell_type": "code",
   "execution_count": null,
   "id": "821d29a8",
   "metadata": {
    "execution": {
     "iopub.execute_input": "2023-06-22T14:21:43.002481Z",
     "iopub.status.busy": "2023-06-22T14:21:43.002337Z",
     "iopub.status.idle": "2023-06-22T14:21:43.019023Z",
     "shell.execute_reply": "2023-06-22T14:21:43.018478Z"
    }
   },
   "outputs": [],
   "source": [
    "fig = plotly_mesh(tmesh)"
   ]
  },
  {
   "cell_type": "code",
   "execution_count": null,
   "id": "6b45b008",
   "metadata": {
    "execution": {
     "iopub.execute_input": "2023-06-22T14:21:43.020849Z",
     "iopub.status.busy": "2023-06-22T14:21:43.020690Z",
     "iopub.status.idle": "2023-06-22T14:21:43.281719Z",
     "shell.execute_reply": "2023-06-22T14:21:43.280064Z"
    }
   },
   "outputs": [],
   "source": [
    "fig.show()"
   ]
  },
  {
   "cell_type": "markdown",
   "id": "301beb03",
   "metadata": {},
   "source": [
    "## Skeletonization"
   ]
  },
  {
   "cell_type": "markdown",
   "id": "f3a9dfa9",
   "metadata": {},
   "source": [
    "It is now time to process the *triangular mesh* to extract its *skeleton*.\n",
    "\n",
    "This is done with the `skeletonize` function from `plant3dvision.proc3d` as follows:"
   ]
  },
  {
   "cell_type": "code",
   "execution_count": null,
   "id": "e52ba403",
   "metadata": {
    "execution": {
     "iopub.execute_input": "2023-06-22T14:21:43.365739Z",
     "iopub.status.busy": "2023-06-22T14:21:43.365557Z",
     "iopub.status.idle": "2023-06-22T14:21:44.267919Z",
     "shell.execute_reply": "2023-06-22T14:21:44.267335Z"
    }
   },
   "outputs": [],
   "source": [
    "skel = skeletonize(tmesh)"
   ]
  },
  {
   "cell_type": "markdown",
   "id": "a1b60e39",
   "metadata": {},
   "source": [
    "### Visualize the skeleton data\n",
    "\n",
    "Once the point cloud has been obtained, we can visualize it with the `plotly_skeleton` method from `plant3dvision.visu` as follows:"
   ]
  },
  {
   "cell_type": "code",
   "execution_count": null,
   "id": "bc5d8bc6",
   "metadata": {
    "execution": {
     "iopub.execute_input": "2023-06-22T14:21:44.269800Z",
     "iopub.status.busy": "2023-06-22T14:21:44.269660Z",
     "iopub.status.idle": "2023-06-22T14:21:44.468492Z",
     "shell.execute_reply": "2023-06-22T14:21:44.467987Z"
    }
   },
   "outputs": [],
   "source": [
    "fig = plotly_skeleton(skel)"
   ]
  },
  {
   "cell_type": "code",
   "execution_count": null,
   "id": "e27efdad",
   "metadata": {
    "execution": {
     "iopub.execute_input": "2023-06-22T14:21:44.470206Z",
     "iopub.status.busy": "2023-06-22T14:21:44.470064Z",
     "iopub.status.idle": "2023-06-22T14:21:44.557587Z",
     "shell.execute_reply": "2023-06-22T14:21:44.556890Z"
    }
   },
   "outputs": [],
   "source": [
    "fig.show()"
   ]
  },
  {
   "cell_type": "markdown",
   "id": "2b3fbeaa",
   "metadata": {},
   "source": [
    "## Compare the mesh and skeleton"
   ]
  },
  {
   "cell_type": "code",
   "execution_count": null,
   "id": "91edcf51",
   "metadata": {
    "execution": {
     "iopub.execute_input": "2023-06-22T14:21:44.570925Z",
     "iopub.status.busy": "2023-06-22T14:21:44.570444Z",
     "iopub.status.idle": "2023-06-22T14:21:44.670285Z",
     "shell.execute_reply": "2023-06-22T14:21:44.669736Z"
    }
   },
   "outputs": [],
   "source": [
    "go_mesh = plotly_mesh_data(tmesh, mesh_kwargs={'opacity': 0.4})\n",
    "go_skel = plotly_skeleton_data(skel)"
   ]
  },
  {
   "cell_type": "code",
   "execution_count": null,
   "id": "eb9297c9",
   "metadata": {
    "execution": {
     "iopub.execute_input": "2023-06-22T14:21:44.672200Z",
     "iopub.status.busy": "2023-06-22T14:21:44.672017Z",
     "iopub.status.idle": "2023-06-22T14:21:45.024033Z",
     "shell.execute_reply": "2023-06-22T14:21:45.023406Z"
    }
   },
   "outputs": [],
   "source": [
    "layout_style = dict(height=800, width=800, showlegend=False)\n",
    "fig = go.Figure(data=[go_mesh] + go_skel, layout=layout_style)\n",
    "fig.update_scenes(aspectmode='data')\n",
    "fig.show()"
   ]
  },
  {
   "cell_type": "markdown",
   "id": "1f8b7d21",
   "metadata": {},
   "source": [
    "We may now **disconnect** from the database as we will not need it anymore:"
   ]
  },
  {
   "cell_type": "code",
   "execution_count": null,
   "id": "b14fc142",
   "metadata": {
    "execution": {
     "iopub.execute_input": "2023-06-22T14:21:45.123203Z",
     "iopub.status.busy": "2023-06-22T14:21:45.123021Z",
     "iopub.status.idle": "2023-06-22T14:21:45.125992Z",
     "shell.execute_reply": "2023-06-22T14:21:45.125639Z"
    }
   },
   "outputs": [],
   "source": [
    "db.disconnect()"
   ]
  },
  {
   "cell_type": "code",
   "execution_count": null,
   "id": "e6bb63ba",
   "metadata": {},
   "outputs": [],
   "source": []
  }
 ],
 "metadata": {
  "kernelspec": {
   "display_name": "Python 3 (ipykernel)",
   "language": "python",
   "name": "python3"
  },
  "language_info": {
   "codemirror_mode": {
    "name": "ipython",
    "version": 3
   },
   "file_extension": ".py",
   "mimetype": "text/x-python",
   "name": "python",
   "nbconvert_exporter": "python",
   "pygments_lexer": "ipython3",
   "version": "3.9.16"
  },
  "widgets": {
   "application/vnd.jupyter.widget-state+json": {
    "state": {
     "3faa38a6d7e0485e891d4af7c0c6866e": {
      "model_module": "@jupyter-widgets/base",
      "model_module_version": "2.0.0",
      "model_name": "LayoutModel",
      "state": {
       "_model_module": "@jupyter-widgets/base",
       "_model_module_version": "2.0.0",
       "_model_name": "LayoutModel",
       "_view_count": null,
       "_view_module": "@jupyter-widgets/base",
       "_view_module_version": "2.0.0",
       "_view_name": "LayoutView",
       "align_content": null,
       "align_items": null,
       "align_self": null,
       "border_bottom": null,
       "border_left": null,
       "border_right": null,
       "border_top": null,
       "bottom": null,
       "display": null,
       "flex": null,
       "flex_flow": null,
       "grid_area": null,
       "grid_auto_columns": null,
       "grid_auto_flow": null,
       "grid_auto_rows": null,
       "grid_column": null,
       "grid_gap": null,
       "grid_row": null,
       "grid_template_areas": null,
       "grid_template_columns": null,
       "grid_template_rows": null,
       "height": null,
       "justify_content": null,
       "justify_items": null,
       "left": null,
       "margin": null,
       "max_height": null,
       "max_width": null,
       "min_height": null,
       "min_width": null,
       "object_fit": null,
       "object_position": null,
       "order": null,
       "overflow": null,
       "padding": null,
       "right": null,
       "top": null,
       "visibility": null,
       "width": null
      }
     },
     "828ed43376e04cda9b027acc97440278": {
      "model_module": "@jupyter-widgets/controls",
      "model_module_version": "2.0.0",
      "model_name": "DropdownModel",
      "state": {
       "_dom_classes": [],
       "_model_module": "@jupyter-widgets/controls",
       "_model_module_version": "2.0.0",
       "_model_name": "DropdownModel",
       "_options_labels": [
        "Col0_20220803_2_1_calib_geom_4_marche",
        "Ler_20220803_1_1_calib_geom_3",
        "Ler_20220803_2_1"
       ],
       "_view_count": null,
       "_view_module": "@jupyter-widgets/controls",
       "_view_module_version": "2.0.0",
       "_view_name": "DropdownView",
       "description": "Dataset:",
       "description_allow_html": false,
       "disabled": false,
       "index": 0,
       "layout": "IPY_MODEL_3faa38a6d7e0485e891d4af7c0c6866e",
       "style": "IPY_MODEL_9f054792cfb14a08a7e007690aa868ea",
       "tabbable": null,
       "tooltip": null
      }
     },
     "9f054792cfb14a08a7e007690aa868ea": {
      "model_module": "@jupyter-widgets/controls",
      "model_module_version": "2.0.0",
      "model_name": "DescriptionStyleModel",
      "state": {
       "_model_module": "@jupyter-widgets/controls",
       "_model_module_version": "2.0.0",
       "_model_name": "DescriptionStyleModel",
       "_view_count": null,
       "_view_module": "@jupyter-widgets/base",
       "_view_module_version": "2.0.0",
       "_view_name": "StyleView",
       "description_width": ""
      }
     }
    },
    "version_major": 2,
    "version_minor": 0
   }
  }
 },
 "nbformat": 4,
 "nbformat_minor": 5
}
