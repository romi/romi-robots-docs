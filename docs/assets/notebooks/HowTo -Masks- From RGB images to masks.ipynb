{
 "cells": [
  {
   "cell_type": "markdown",
   "metadata": {},
   "source": [
    "# HowTo -Mask- From RGB images to binary masks"
   ]
  },
  {
   "cell_type": "markdown",
   "metadata": {},
   "source": [
    "In this notebook you will learn:\n",
    "\n",
    "1. how to connect to a ROMI database\n",
    "2. how to use our algorithms to detect the plant in the image and create a binary mask\n",
    "3. how to visualize the obtained masks"
   ]
  },
  {
   "cell_type": "markdown",
   "metadata": {},
   "source": [
    "This notebook **assume** that you have:\n",
    "- declared the `ROMI_DB` environment variable as the path to the database directory to use\n",
    "- processed the test dataset with the _geometric pipeline,_ so we can access the fileset containing the data we want to start with..."
   ]
  },
  {
   "cell_type": "markdown",
   "metadata": {},
   "source": [
    "Remember, the aim of this notebook is to show you how it works \"under the hood\".\n",
    "This is not how you should process your data, that is done thanks to the `romi_run_task` CLI tool."
   ]
  },
  {
   "cell_type": "code",
   "execution_count": null,
   "metadata": {
    "execution": {
     "iopub.execute_input": "2023-06-22T14:21:47.094567Z",
     "iopub.status.busy": "2023-06-22T14:21:47.094303Z",
     "iopub.status.idle": "2023-06-22T14:21:47.391698Z",
     "shell.execute_reply": "2023-06-22T14:21:47.391204Z"
    }
   },
   "outputs": [],
   "source": [
    "%matplotlib inline"
   ]
  },
  {
   "cell_type": "code",
   "execution_count": null,
   "metadata": {
    "execution": {
     "iopub.execute_input": "2023-06-22T14:21:47.393644Z",
     "iopub.status.busy": "2023-06-22T14:21:47.393468Z",
     "iopub.status.idle": "2023-06-22T14:21:47.755493Z",
     "shell.execute_reply": "2023-06-22T14:21:47.754812Z"
    }
   },
   "outputs": [],
   "source": [
    "import os\n",
    "\n",
    "import ipywidgets as widgets\n",
    "import matplotlib.pyplot as plt\n",
    "from plant3dvision.proc2d import linear, excess_green, dilation\n",
    "from plant3dvision.visu import plotly_image_carousel\n",
    "from plantdb import FSDB\n",
    "from plantdb.io import read_image"
   ]
  },
  {
   "cell_type": "markdown",
   "metadata": {},
   "source": [
    "## Connect to the database & get the initial data"
   ]
  },
  {
   "cell_type": "markdown",
   "metadata": {},
   "source": [
    "If you did not declare a `ROMI_DB` environment variable, you can do it by uncommenting the next cell and setting it to the right value."
   ]
  },
  {
   "cell_type": "code",
   "execution_count": null,
   "metadata": {
    "execution": {
     "iopub.execute_input": "2023-06-22T14:21:47.757648Z",
     "iopub.status.busy": "2023-06-22T14:21:47.757457Z",
     "iopub.status.idle": "2023-06-22T14:21:47.760011Z",
     "shell.execute_reply": "2023-06-22T14:21:47.759532Z"
    }
   },
   "outputs": [],
   "source": [
    "# os.environ['ROMI_DB'] = \"/path/to/test/data\""
   ]
  },
  {
   "cell_type": "markdown",
   "metadata": {},
   "source": [
    "### Connect to the database"
   ]
  },
  {
   "cell_type": "code",
   "execution_count": null,
   "metadata": {
    "execution": {
     "iopub.execute_input": "2023-06-22T14:21:47.761680Z",
     "iopub.status.busy": "2023-06-22T14:21:47.761504Z",
     "iopub.status.idle": "2023-06-22T14:21:47.807830Z",
     "shell.execute_reply": "2023-06-22T14:21:47.807353Z"
    }
   },
   "outputs": [],
   "source": [
    "db = FSDB(os.environ['ROMI_DB'])  # requires definition of this environment variable!\n",
    "db.connect()"
   ]
  },
  {
   "cell_type": "markdown",
   "metadata": {},
   "source": [
    "Once you are connected to the database, you can list the available scan *dataset* with `db.list_scans()`."
   ]
  },
  {
   "cell_type": "markdown",
   "metadata": {},
   "source": [
    "### Select a dataset\n",
    "\n",
    "We now select a dataset (with the `Dropdown` widget) for the demo:"
   ]
  },
  {
   "cell_type": "code",
   "execution_count": null,
   "metadata": {
    "execution": {
     "iopub.execute_input": "2023-06-22T14:21:47.809740Z",
     "iopub.status.busy": "2023-06-22T14:21:47.809598Z",
     "iopub.status.idle": "2023-06-22T14:21:47.814875Z",
     "shell.execute_reply": "2023-06-22T14:21:47.814542Z"
    }
   },
   "outputs": [],
   "source": [
    "scan_name = widgets.Dropdown(options=db.list_scans(), value=db.list_scans()[0], description='Dataset:')\n",
    "display(scan_name)"
   ]
  },
  {
   "cell_type": "code",
   "execution_count": null,
   "metadata": {
    "execution": {
     "iopub.execute_input": "2023-06-22T14:21:47.816470Z",
     "iopub.status.busy": "2023-06-22T14:21:47.816327Z",
     "iopub.status.idle": "2023-06-22T14:21:47.818695Z",
     "shell.execute_reply": "2023-06-22T14:21:47.818278Z"
    }
   },
   "outputs": [],
   "source": [
    "scan = db.get_scan(scan_name.value)"
   ]
  },
  {
   "cell_type": "markdown",
   "metadata": {},
   "source": [
    "If you did not process this dataset yet, from the `plant3dvision` root directory, you can do it with:\n",
    "```\n",
    "romi_run_task AnglesAndInternodes $ROMI_DB/<selected_dataset> --config plant-3d-vision/configs/geom_pipe_real.toml\n",
    "```"
   ]
  },
  {
   "cell_type": "markdown",
   "metadata": {},
   "source": [
    "To list the available *filesets* in this *scan dataset*:"
   ]
  },
  {
   "cell_type": "code",
   "execution_count": null,
   "metadata": {
    "execution": {
     "iopub.execute_input": "2023-06-22T14:21:47.820138Z",
     "iopub.status.busy": "2023-06-22T14:21:47.820006Z",
     "iopub.status.idle": "2023-06-22T14:21:47.823416Z",
     "shell.execute_reply": "2023-06-22T14:21:47.823093Z"
    }
   },
   "outputs": [],
   "source": [
    "scan.list_filesets()"
   ]
  },
  {
   "cell_type": "markdown",
   "metadata": {},
   "source": [
    "### Get the RGB images fileset\n",
    "\n",
    "The RGB images resulting from an _Undistorted_ tasks are to be found in the 'Undistorted*' fileset."
   ]
  },
  {
   "cell_type": "code",
   "execution_count": null,
   "metadata": {
    "execution": {
     "iopub.execute_input": "2023-06-22T14:21:47.825132Z",
     "iopub.status.busy": "2023-06-22T14:21:47.824999Z",
     "iopub.status.idle": "2023-06-22T14:21:47.828012Z",
     "shell.execute_reply": "2023-06-22T14:21:47.827484Z"
    }
   },
   "outputs": [],
   "source": [
    "img_fs = scan.get_filesets(query={\"task_name\": \"Undistorted\"})[0]\n",
    "print(img_fs.path().stem)"
   ]
  },
  {
   "cell_type": "markdown",
   "metadata": {},
   "source": [
    "Once you have access to the 'images' fileset, you may access the RGB images as follows:"
   ]
  },
  {
   "cell_type": "code",
   "execution_count": null,
   "metadata": {
    "execution": {
     "iopub.execute_input": "2023-06-22T14:21:47.829620Z",
     "iopub.status.busy": "2023-06-22T14:21:47.829408Z",
     "iopub.status.idle": "2023-06-22T14:21:47.831755Z",
     "shell.execute_reply": "2023-06-22T14:21:47.831302Z"
    }
   },
   "outputs": [],
   "source": [
    "img_files = img_fs.get_files(query={\"channel\": \"rgb\"})"
   ]
  },
  {
   "cell_type": "code",
   "execution_count": null,
   "metadata": {
    "execution": {
     "iopub.execute_input": "2023-06-22T14:21:47.833385Z",
     "iopub.status.busy": "2023-06-22T14:21:47.833215Z",
     "iopub.status.idle": "2023-06-22T14:21:47.835646Z",
     "shell.execute_reply": "2023-06-22T14:21:47.835302Z"
    }
   },
   "outputs": [],
   "source": [
    "print(f\"This fileset contains {len(img_files)} files (matching the `query`).\")"
   ]
  },
  {
   "cell_type": "markdown",
   "metadata": {},
   "source": [
    "### Visualize the RGB images fileset\n",
    "\n",
    "It is possible to visualize the set of RGB images using our `plotly_image_carousel` method."
   ]
  },
  {
   "cell_type": "code",
   "execution_count": null,
   "metadata": {
    "execution": {
     "iopub.execute_input": "2023-06-22T14:21:47.837155Z",
     "iopub.status.busy": "2023-06-22T14:21:47.837024Z",
     "iopub.status.idle": "2023-06-22T14:21:51.624553Z",
     "shell.execute_reply": "2023-06-22T14:21:51.623968Z"
    }
   },
   "outputs": [],
   "source": [
    "fig = plotly_image_carousel(img_files, title=scan_name.value)"
   ]
  },
  {
   "cell_type": "code",
   "execution_count": null,
   "metadata": {
    "execution": {
     "iopub.execute_input": "2023-06-22T14:21:51.626264Z",
     "iopub.status.busy": "2023-06-22T14:21:51.626119Z",
     "iopub.status.idle": "2023-06-22T14:21:52.323960Z",
     "shell.execute_reply": "2023-06-22T14:21:52.323232Z"
    }
   },
   "outputs": [],
   "source": [
    "fig.show()"
   ]
  },
  {
   "cell_type": "markdown",
   "metadata": {},
   "source": [
    "## Extract a binary mask using a _linear_ filter\n",
    "\n",
    "More details about the _linear_ filter can be accessed on our [technical documentation](https://docs.romi-project.eu/plant_imager/explanations/task_masks/#method-linear).\n",
    "\n",
    "**This is the default method** used in the geometric workflow."
   ]
  },
  {
   "cell_type": "markdown",
   "metadata": {},
   "source": [
    "Using the `read_image` method from `plantdb.io`, you can load an image from a database `File`:"
   ]
  },
  {
   "cell_type": "code",
   "execution_count": null,
   "metadata": {
    "execution": {
     "iopub.execute_input": "2023-06-22T14:21:52.511054Z",
     "iopub.status.busy": "2023-06-22T14:21:52.510875Z",
     "iopub.status.idle": "2023-06-22T14:21:52.534167Z",
     "shell.execute_reply": "2023-06-22T14:21:52.533625Z"
    }
   },
   "outputs": [],
   "source": [
    "img = read_image(img_files[0])"
   ]
  },
  {
   "cell_type": "markdown",
   "metadata": {},
   "source": [
    "We now apply the `linear` filter algorithm to the loaded image as follows:"
   ]
  },
  {
   "cell_type": "code",
   "execution_count": null,
   "metadata": {
    "execution": {
     "iopub.execute_input": "2023-06-22T14:21:52.535865Z",
     "iopub.status.busy": "2023-06-22T14:21:52.535731Z",
     "iopub.status.idle": "2023-06-22T14:21:52.742536Z",
     "shell.execute_reply": "2023-06-22T14:21:52.741809Z"
    }
   },
   "outputs": [],
   "source": [
    "filter_img = linear(img, coefs=[0.1, 1., 0.1])"
   ]
  },
  {
   "cell_type": "markdown",
   "metadata": {},
   "source": [
    "Then we binarize the grayscale image with a _high-pass threshold_:"
   ]
  },
  {
   "cell_type": "code",
   "execution_count": null,
   "metadata": {
    "execution": {
     "iopub.execute_input": "2023-06-22T14:21:52.744704Z",
     "iopub.status.busy": "2023-06-22T14:21:52.744383Z",
     "iopub.status.idle": "2023-06-22T14:21:52.748314Z",
     "shell.execute_reply": "2023-06-22T14:21:52.747730Z"
    }
   },
   "outputs": [],
   "source": [
    "threshold = 0.3\n",
    "mask = filter_img > threshold  # convert to binary mask using threshold"
   ]
  },
  {
   "cell_type": "markdown",
   "metadata": {},
   "source": [
    "This binary image is then dilated as follows:"
   ]
  },
  {
   "cell_type": "code",
   "execution_count": null,
   "metadata": {
    "execution": {
     "iopub.execute_input": "2023-06-22T14:21:52.750012Z",
     "iopub.status.busy": "2023-06-22T14:21:52.749841Z",
     "iopub.status.idle": "2023-06-22T14:21:52.789657Z",
     "shell.execute_reply": "2023-06-22T14:21:52.789146Z"
    }
   },
   "outputs": [],
   "source": [
    "radius = 2\n",
    "dilated_mask = dilation(mask, radius)  # apply a dilation to binary mask"
   ]
  },
  {
   "cell_type": "markdown",
   "metadata": {},
   "source": [
    "Finally, we can visualize the original image and the result of each successive step with:"
   ]
  },
  {
   "cell_type": "code",
   "execution_count": null,
   "metadata": {
    "execution": {
     "iopub.execute_input": "2023-06-22T14:21:52.791351Z",
     "iopub.status.busy": "2023-06-22T14:21:52.791188Z",
     "iopub.status.idle": "2023-06-22T14:21:53.290373Z",
     "shell.execute_reply": "2023-06-22T14:21:53.289897Z"
    }
   },
   "outputs": [],
   "source": [
    "fig, axes = plt.subplots(2, 2, figsize=(8, 7))\n",
    "axes[0, 0].imshow(img)\n",
    "axes[0, 0].set_title(\"Original image\")\n",
    "axes[0, 1].imshow(filter_img, cmap='gray')\n",
    "axes[0, 1].set_title(\"Filtered image (linear)\")\n",
    "axes[1, 0].imshow(mask, cmap='gray')\n",
    "axes[1, 0].set_title(f\"Binary mask image (threshold={threshold})\")\n",
    "axes[1, 1].imshow(dilated_mask, cmap='gray')\n",
    "axes[1, 1].set_title(f\"Dilated binary mask image (radius={radius})\")\n",
    "[ax.set_axis_off() for ax in axes.flatten()]\n",
    "plt.tight_layout()\n",
    "plt.show()"
   ]
  },
  {
   "cell_type": "markdown",
   "metadata": {},
   "source": [
    "Note that we do not need a PERFECT masks of the plant, with the space-carving method we will select voxels that occupy the defined volume, so anything from the background that comes in contact with the plant will be removed.\n",
    "Sam goes for the \"noise\" that may be seen around the plant."
   ]
  },
  {
   "cell_type": "markdown",
   "metadata": {},
   "source": [
    "## Extract a binary mask using an _excess green_ filter\n",
    "\n",
    "For comparison purposes, we also present the _excess green_ filter method hereafter.\n",
    "\n",
    "More details about the _excess green_ filter can be accessed on our [technical documentation](https://docs.romi-project.eu/plant_imager/explanations/task_masks/#method-excess_green)."
   ]
  },
  {
   "cell_type": "markdown",
   "metadata": {},
   "source": [
    "Using the `read_image` method from `plantdb.io`, you can load an image from a database `File`:"
   ]
  },
  {
   "cell_type": "code",
   "execution_count": null,
   "metadata": {
    "execution": {
     "iopub.execute_input": "2023-06-22T14:21:53.292117Z",
     "iopub.status.busy": "2023-06-22T14:21:53.291929Z",
     "iopub.status.idle": "2023-06-22T14:21:53.315104Z",
     "shell.execute_reply": "2023-06-22T14:21:53.314529Z"
    }
   },
   "outputs": [],
   "source": [
    "img = read_image(img_files[0])"
   ]
  },
  {
   "cell_type": "markdown",
   "metadata": {},
   "source": [
    "We now apply the `excess_green` filter algorithm to the loaded image as follows:"
   ]
  },
  {
   "cell_type": "code",
   "execution_count": null,
   "metadata": {
    "execution": {
     "iopub.execute_input": "2023-06-22T14:21:53.317052Z",
     "iopub.status.busy": "2023-06-22T14:21:53.316914Z",
     "iopub.status.idle": "2023-06-22T14:21:53.565412Z",
     "shell.execute_reply": "2023-06-22T14:21:53.564888Z"
    }
   },
   "outputs": [],
   "source": [
    "filter_img = excess_green(img)"
   ]
  },
  {
   "cell_type": "markdown",
   "metadata": {},
   "source": [
    "Then we binarize the grayscale image with a _high-pass threshold_:"
   ]
  },
  {
   "cell_type": "code",
   "execution_count": null,
   "metadata": {
    "execution": {
     "iopub.execute_input": "2023-06-22T14:21:53.567260Z",
     "iopub.status.busy": "2023-06-22T14:21:53.567076Z",
     "iopub.status.idle": "2023-06-22T14:21:53.570124Z",
     "shell.execute_reply": "2023-06-22T14:21:53.569655Z"
    }
   },
   "outputs": [],
   "source": [
    "threshold = 0.3\n",
    "mask = filter_img > threshold  # convert to binary mask using threshold"
   ]
  },
  {
   "cell_type": "markdown",
   "metadata": {},
   "source": [
    "This binary image is then dilated as follows:"
   ]
  },
  {
   "cell_type": "code",
   "execution_count": null,
   "metadata": {
    "execution": {
     "iopub.execute_input": "2023-06-22T14:21:53.572196Z",
     "iopub.status.busy": "2023-06-22T14:21:53.571948Z",
     "iopub.status.idle": "2023-06-22T14:21:53.612913Z",
     "shell.execute_reply": "2023-06-22T14:21:53.612468Z"
    }
   },
   "outputs": [],
   "source": [
    "radius = 2\n",
    "dilated_mask = dilation(mask, radius)  # apply a dilation to binary mask"
   ]
  },
  {
   "cell_type": "markdown",
   "metadata": {},
   "source": [
    "Finally, we can visualize the original image and the result of each successive step with:"
   ]
  },
  {
   "cell_type": "code",
   "execution_count": null,
   "metadata": {
    "execution": {
     "iopub.execute_input": "2023-06-22T14:21:53.614677Z",
     "iopub.status.busy": "2023-06-22T14:21:53.614545Z",
     "iopub.status.idle": "2023-06-22T14:21:54.154172Z",
     "shell.execute_reply": "2023-06-22T14:21:54.153691Z"
    }
   },
   "outputs": [],
   "source": [
    "fig, axes = plt.subplots(2, 2, figsize=(8, 7))\n",
    "axes[0, 0].imshow(img)\n",
    "axes[0, 0].set_title(\"Original image\")\n",
    "axes[0, 1].imshow(filter_img, cmap='gray')\n",
    "axes[0, 1].set_title(\"Filtered image (excess green)\")\n",
    "axes[1, 0].imshow(mask, cmap='gray')\n",
    "axes[1, 0].set_title(f\"Binary mask image (threshold={threshold})\")\n",
    "axes[1, 1].imshow(dilated_mask, cmap='gray')\n",
    "axes[1, 1].set_title(f\"Dilated binary mask image (radius={radius})\")\n",
    "[ax.set_axis_off() for ax in axes.flatten()]\n",
    "plt.tight_layout()\n",
    "plt.show()"
   ]
  },
  {
   "cell_type": "markdown",
   "metadata": {},
   "source": [
    "We may now **disconnect** from the database as we will not need it anymore:"
   ]
  },
  {
   "cell_type": "code",
   "execution_count": null,
   "metadata": {
    "execution": {
     "iopub.execute_input": "2023-06-22T14:21:54.155875Z",
     "iopub.status.busy": "2023-06-22T14:21:54.155735Z",
     "iopub.status.idle": "2023-06-22T14:21:54.158682Z",
     "shell.execute_reply": "2023-06-22T14:21:54.158352Z"
    }
   },
   "outputs": [],
   "source": [
    "db.disconnect()"
   ]
  }
 ],
 "metadata": {
  "kernelspec": {
   "display_name": "Python 3 (ipykernel)",
   "language": "python",
   "name": "python3"
  },
  "language_info": {
   "codemirror_mode": {
    "name": "ipython",
    "version": 3
   },
   "file_extension": ".py",
   "mimetype": "text/x-python",
   "name": "python",
   "nbconvert_exporter": "python",
   "pygments_lexer": "ipython3",
   "version": "3.9.16"
  },
  "widgets": {
   "application/vnd.jupyter.widget-state+json": {
    "state": {
     "30593a11befb43b48733790820ea0657": {
      "model_module": "@jupyter-widgets/controls",
      "model_module_version": "2.0.0",
      "model_name": "DropdownModel",
      "state": {
       "_dom_classes": [],
       "_model_module": "@jupyter-widgets/controls",
       "_model_module_version": "2.0.0",
       "_model_name": "DropdownModel",
       "_options_labels": [
        "Col0_20220803_2_1_calib_geom_4_marche",
        "Ler_20220803_1_1_calib_geom_3",
        "Ler_20220803_2_1"
       ],
       "_view_count": null,
       "_view_module": "@jupyter-widgets/controls",
       "_view_module_version": "2.0.0",
       "_view_name": "DropdownView",
       "description": "Dataset:",
       "description_allow_html": false,
       "disabled": false,
       "index": 0,
       "layout": "IPY_MODEL_410d445889c3458d84810506154fa52a",
       "style": "IPY_MODEL_e85269de321546faa52efdb25e1ebe08",
       "tabbable": null,
       "tooltip": null
      }
     },
     "410d445889c3458d84810506154fa52a": {
      "model_module": "@jupyter-widgets/base",
      "model_module_version": "2.0.0",
      "model_name": "LayoutModel",
      "state": {
       "_model_module": "@jupyter-widgets/base",
       "_model_module_version": "2.0.0",
       "_model_name": "LayoutModel",
       "_view_count": null,
       "_view_module": "@jupyter-widgets/base",
       "_view_module_version": "2.0.0",
       "_view_name": "LayoutView",
       "align_content": null,
       "align_items": null,
       "align_self": null,
       "border_bottom": null,
       "border_left": null,
       "border_right": null,
       "border_top": null,
       "bottom": null,
       "display": null,
       "flex": null,
       "flex_flow": null,
       "grid_area": null,
       "grid_auto_columns": null,
       "grid_auto_flow": null,
       "grid_auto_rows": null,
       "grid_column": null,
       "grid_gap": null,
       "grid_row": null,
       "grid_template_areas": null,
       "grid_template_columns": null,
       "grid_template_rows": null,
       "height": null,
       "justify_content": null,
       "justify_items": null,
       "left": null,
       "margin": null,
       "max_height": null,
       "max_width": null,
       "min_height": null,
       "min_width": null,
       "object_fit": null,
       "object_position": null,
       "order": null,
       "overflow": null,
       "padding": null,
       "right": null,
       "top": null,
       "visibility": null,
       "width": null
      }
     },
     "e85269de321546faa52efdb25e1ebe08": {
      "model_module": "@jupyter-widgets/controls",
      "model_module_version": "2.0.0",
      "model_name": "DescriptionStyleModel",
      "state": {
       "_model_module": "@jupyter-widgets/controls",
       "_model_module_version": "2.0.0",
       "_model_name": "DescriptionStyleModel",
       "_view_count": null,
       "_view_module": "@jupyter-widgets/base",
       "_view_module_version": "2.0.0",
       "_view_name": "StyleView",
       "description_width": ""
      }
     }
    },
    "version_major": 2,
    "version_minor": 0
   }
  }
 },
 "nbformat": 4,
 "nbformat_minor": 1
}
