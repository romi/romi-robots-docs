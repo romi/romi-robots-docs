{
 "cells": [
  {
   "cell_type": "markdown",
   "metadata": {},
   "source": [
    "# HowTo -PointCloud- From carved volume to point cloud"
   ]
  },
  {
   "cell_type": "markdown",
   "metadata": {},
   "source": [
    "In this notebook you will learn:\n",
    "\n",
    "1. how to connect to a ROMI database\n",
    "2. how to transform the carved volume into point cloud\n",
    "3. how to visualize the reconstructed point cloud"
   ]
  },
  {
   "cell_type": "markdown",
   "metadata": {},
   "source": [
    "This notebook **assume** that you have:\n",
    "- declared the `ROMI_DB` environment variable as the path to the database directory to use\n",
    "- processed the test dataset with the _geometric pipeline,_ so we can access the fileset containing the data we want to start with..."
   ]
  },
  {
   "cell_type": "markdown",
   "metadata": {},
   "source": [
    "Remember, the aim of this notebook is to show you how it works \"under the hood\".\n",
    "This is not how you should process your data, that is done thanks to the `romi_run_task` CLI tool."
   ]
  },
  {
   "cell_type": "code",
   "execution_count": null,
   "metadata": {
    "execution": {
     "iopub.execute_input": "2023-06-22T14:21:55.882941Z",
     "iopub.status.busy": "2023-06-22T14:21:55.882743Z",
     "iopub.status.idle": "2023-06-22T14:21:59.038996Z",
     "shell.execute_reply": "2023-06-22T14:21:59.038411Z"
    }
   },
   "outputs": [],
   "source": [
    "import os\n",
    "\n",
    "import ipywidgets as widgets\n",
    "import numpy as np\n",
    "from plant3dvision.proc3d import vol2pcd\n",
    "from plant3dvision.visu import plotly_volume_slicer, plotly_pointcloud\n",
    "from plantdb import FSDB\n",
    "from plantdb.io import read_volume"
   ]
  },
  {
   "cell_type": "markdown",
   "metadata": {},
   "source": [
    "## Connect to the database & get the initial data"
   ]
  },
  {
   "cell_type": "markdown",
   "metadata": {},
   "source": [
    "If you did not declare a `ROMI_DB` environment variable, you can do it by uncommenting the next cell and setting it to the right value."
   ]
  },
  {
   "cell_type": "code",
   "execution_count": null,
   "metadata": {
    "execution": {
     "iopub.execute_input": "2023-06-22T14:21:59.041102Z",
     "iopub.status.busy": "2023-06-22T14:21:59.040854Z",
     "iopub.status.idle": "2023-06-22T14:21:59.043585Z",
     "shell.execute_reply": "2023-06-22T14:21:59.043038Z"
    }
   },
   "outputs": [],
   "source": [
    "# os.environ['ROMI_DB'] = \"/path/to/test/data\""
   ]
  },
  {
   "cell_type": "markdown",
   "metadata": {},
   "source": [
    "### Connect to the database"
   ]
  },
  {
   "cell_type": "code",
   "execution_count": null,
   "metadata": {
    "execution": {
     "iopub.execute_input": "2023-06-22T14:21:59.045195Z",
     "iopub.status.busy": "2023-06-22T14:21:59.045060Z",
     "iopub.status.idle": "2023-06-22T14:21:59.107370Z",
     "shell.execute_reply": "2023-06-22T14:21:59.106823Z"
    }
   },
   "outputs": [],
   "source": [
    "db = FSDB(os.environ['ROMI_DB'])  # requires definition of this environment variable!\n",
    "db.connect()"
   ]
  },
  {
   "cell_type": "markdown",
   "metadata": {},
   "source": [
    "Once you are connected to the database, you can list the available scan *dataset* with `db.list_scans()`."
   ]
  },
  {
   "cell_type": "markdown",
   "metadata": {},
   "source": [
    "### Select a dataset\n",
    "\n",
    "We now select a dataset (with the `Dropdown` widget) for the demo:"
   ]
  },
  {
   "cell_type": "code",
   "execution_count": null,
   "metadata": {
    "execution": {
     "iopub.execute_input": "2023-06-22T14:21:59.109206Z",
     "iopub.status.busy": "2023-06-22T14:21:59.109066Z",
     "iopub.status.idle": "2023-06-22T14:21:59.115053Z",
     "shell.execute_reply": "2023-06-22T14:21:59.114732Z"
    }
   },
   "outputs": [],
   "source": [
    "scan_name = widgets.Dropdown(options=db.list_scans(), value=db.list_scans()[0], description='Dataset:')\n",
    "display(scan_name)"
   ]
  },
  {
   "cell_type": "code",
   "execution_count": null,
   "metadata": {
    "execution": {
     "iopub.execute_input": "2023-06-22T14:21:59.116578Z",
     "iopub.status.busy": "2023-06-22T14:21:59.116445Z",
     "iopub.status.idle": "2023-06-22T14:21:59.118729Z",
     "shell.execute_reply": "2023-06-22T14:21:59.118280Z"
    }
   },
   "outputs": [],
   "source": [
    "scan = db.get_scan(scan_name.value)"
   ]
  },
  {
   "cell_type": "markdown",
   "metadata": {},
   "source": [
    "If you did not process this dataset yet, from the `plant3dvision` root directory, you can do it with:\n",
    "```\n",
    "romi_run_task AnglesAndInternodes $ROMI_DB/<selected_dataset> --config plant-3d-vision/configs/geom_pipe_real.toml\n",
    "```"
   ]
  },
  {
   "cell_type": "markdown",
   "metadata": {},
   "source": [
    "To list the available *filesets* in this *scan dataset*:"
   ]
  },
  {
   "cell_type": "code",
   "execution_count": null,
   "metadata": {
    "execution": {
     "iopub.execute_input": "2023-06-22T14:21:59.120404Z",
     "iopub.status.busy": "2023-06-22T14:21:59.120048Z",
     "iopub.status.idle": "2023-06-22T14:21:59.123198Z",
     "shell.execute_reply": "2023-06-22T14:21:59.122801Z"
    }
   },
   "outputs": [],
   "source": [
    "scan.list_filesets()"
   ]
  },
  {
   "cell_type": "markdown",
   "metadata": {},
   "source": [
    "### Get the Voxel volume fileset\n",
    "\n",
    "The voxel volume resulting from a _Voxels_ task are to be found in the 'Voxels*' fileset."
   ]
  },
  {
   "cell_type": "code",
   "execution_count": null,
   "metadata": {
    "execution": {
     "iopub.execute_input": "2023-06-22T14:21:59.124699Z",
     "iopub.status.busy": "2023-06-22T14:21:59.124567Z",
     "iopub.status.idle": "2023-06-22T14:21:59.127278Z",
     "shell.execute_reply": "2023-06-22T14:21:59.126953Z"
    }
   },
   "outputs": [],
   "source": [
    "volume_fs = scan.get_filesets(query={\"task_name\": \"Voxels\"})[0]\n",
    "print(volume_fs.path().stem)"
   ]
  },
  {
   "cell_type": "markdown",
   "metadata": {},
   "source": [
    "### Get and load the carved volume\n",
    "\n",
    "Once you have access to the right fileset, you may access the volume file and load it as follows:"
   ]
  },
  {
   "cell_type": "code",
   "execution_count": null,
   "metadata": {
    "execution": {
     "iopub.execute_input": "2023-06-22T14:21:59.128937Z",
     "iopub.status.busy": "2023-06-22T14:21:59.128634Z",
     "iopub.status.idle": "2023-06-22T14:21:59.204890Z",
     "shell.execute_reply": "2023-06-22T14:21:59.204350Z"
    }
   },
   "outputs": [],
   "source": [
    "volume_file = volume_fs.get_files()[0]\n",
    "vol = read_volume(volume_file)"
   ]
  },
  {
   "cell_type": "markdown",
   "metadata": {},
   "source": [
    "### Visualize the carved volume\n",
    "\n",
    "It is possible to visualize the carved volume with the `plotly_volume_slicer` from `plant3dvision.visu` as follows:"
   ]
  },
  {
   "cell_type": "code",
   "execution_count": null,
   "metadata": {
    "execution": {
     "iopub.execute_input": "2023-06-22T14:21:59.206612Z",
     "iopub.status.busy": "2023-06-22T14:21:59.206464Z",
     "iopub.status.idle": "2023-06-22T14:22:00.453992Z",
     "shell.execute_reply": "2023-06-22T14:22:00.453446Z"
    }
   },
   "outputs": [],
   "source": [
    "fig = plotly_volume_slicer(vol)\n",
    "fig.show()"
   ]
  },
  {
   "cell_type": "markdown",
   "metadata": {},
   "source": [
    "## Compute the point cloud\n",
    "\n",
    "We will now convert the carved volume into a point cloud describing the envelope of the object."
   ]
  },
  {
   "cell_type": "markdown",
   "metadata": {},
   "source": [
    "### Get the parameters from the volume file metadata\n",
    "\n",
    "We start by getting the voxel-size and origin of the volume to **correctly place the point cloud in space** and **scale it**."
   ]
  },
  {
   "cell_type": "code",
   "execution_count": null,
   "metadata": {
    "execution": {
     "iopub.execute_input": "2023-06-22T14:22:00.482347Z",
     "iopub.status.busy": "2023-06-22T14:22:00.482160Z",
     "iopub.status.idle": "2023-06-22T14:22:00.485334Z",
     "shell.execute_reply": "2023-06-22T14:22:00.484840Z"
    }
   },
   "outputs": [],
   "source": [
    "vxs = volume_file.get_metadata('voxel_size')\n",
    "print(f\"The volume voxel-size is: {vxs}x{vxs}x{vxs}mm.\")\n",
    "ori = np.array(volume_file.get_metadata('origin'))\n",
    "print(f\"The volume origin is located at: {', '.join(map(str, ori))} (XYZ).\")"
   ]
  },
  {
   "cell_type": "markdown",
   "metadata": {},
   "source": [
    "### Estimate the point cloud\n",
    "\n",
    "In this step, we will detect the points describing the volume envelope (shell) and compute the normals.\n",
    "\n",
    "**WARNING**: this involves heavy computation and might take some times depending on your machine."
   ]
  },
  {
   "cell_type": "code",
   "execution_count": null,
   "metadata": {
    "execution": {
     "iopub.execute_input": "2023-06-22T14:22:00.486895Z",
     "iopub.status.busy": "2023-06-22T14:22:00.486756Z",
     "iopub.status.idle": "2023-06-22T14:22:11.299357Z",
     "shell.execute_reply": "2023-06-22T14:22:11.298789Z"
    }
   },
   "outputs": [],
   "source": [
    "pcd = vol2pcd(vol, origin=ori, voxel_size=vxs)"
   ]
  },
  {
   "cell_type": "markdown",
   "metadata": {},
   "source": [
    "### Visualize the estimated point cloud\n",
    "\n",
    "Once the point cloud has been obtained, we can visualize it with the `plotly_pointcloud` method from `plant3dvision.visu` as follows:"
   ]
  },
  {
   "cell_type": "code",
   "execution_count": null,
   "metadata": {
    "execution": {
     "iopub.execute_input": "2023-06-22T14:22:11.303339Z",
     "iopub.status.busy": "2023-06-22T14:22:11.303135Z",
     "iopub.status.idle": "2023-06-22T14:22:11.315363Z",
     "shell.execute_reply": "2023-06-22T14:22:11.314793Z"
    }
   },
   "outputs": [],
   "source": [
    "fig = plotly_pointcloud(pcd, n_pts=9000)"
   ]
  },
  {
   "cell_type": "code",
   "execution_count": null,
   "metadata": {
    "execution": {
     "iopub.execute_input": "2023-06-22T14:22:11.318104Z",
     "iopub.status.busy": "2023-06-22T14:22:11.317883Z",
     "iopub.status.idle": "2023-06-22T14:22:11.379416Z",
     "shell.execute_reply": "2023-06-22T14:22:11.378808Z"
    }
   },
   "outputs": [],
   "source": [
    "fig.show()"
   ]
  },
  {
   "cell_type": "markdown",
   "metadata": {},
   "source": [
    "Note that this is not EXACTLY the point cloud you estimated, but **a down-sampled version** to keep a fluid viewer.\n",
    "The number of points kept for this figure is given byt the `n_pts` parameter of the `plotly_pointcloud` method."
   ]
  },
  {
   "cell_type": "markdown",
   "metadata": {},
   "source": [
    "We may now **disconnect** from the database as we will not need it anymore:"
   ]
  },
  {
   "cell_type": "code",
   "execution_count": null,
   "metadata": {
    "execution": {
     "iopub.execute_input": "2023-06-22T14:22:11.407488Z",
     "iopub.status.busy": "2023-06-22T14:22:11.407281Z",
     "iopub.status.idle": "2023-06-22T14:22:11.411087Z",
     "shell.execute_reply": "2023-06-22T14:22:11.410616Z"
    }
   },
   "outputs": [],
   "source": [
    "db.disconnect()"
   ]
  },
  {
   "cell_type": "code",
   "execution_count": null,
   "metadata": {},
   "outputs": [],
   "source": []
  }
 ],
 "metadata": {
  "kernelspec": {
   "display_name": "Python 3 (ipykernel)",
   "language": "python",
   "name": "python3"
  },
  "language_info": {
   "codemirror_mode": {
    "name": "ipython",
    "version": 3
   },
   "file_extension": ".py",
   "mimetype": "text/x-python",
   "name": "python",
   "nbconvert_exporter": "python",
   "pygments_lexer": "ipython3",
   "version": "3.9.16"
  },
  "widgets": {
   "application/vnd.jupyter.widget-state+json": {
    "state": {
     "ac70b7a7235e4c809185c3c14ef8ced3": {
      "model_module": "@jupyter-widgets/base",
      "model_module_version": "2.0.0",
      "model_name": "LayoutModel",
      "state": {
       "_model_module": "@jupyter-widgets/base",
       "_model_module_version": "2.0.0",
       "_model_name": "LayoutModel",
       "_view_count": null,
       "_view_module": "@jupyter-widgets/base",
       "_view_module_version": "2.0.0",
       "_view_name": "LayoutView",
       "align_content": null,
       "align_items": null,
       "align_self": null,
       "border_bottom": null,
       "border_left": null,
       "border_right": null,
       "border_top": null,
       "bottom": null,
       "display": null,
       "flex": null,
       "flex_flow": null,
       "grid_area": null,
       "grid_auto_columns": null,
       "grid_auto_flow": null,
       "grid_auto_rows": null,
       "grid_column": null,
       "grid_gap": null,
       "grid_row": null,
       "grid_template_areas": null,
       "grid_template_columns": null,
       "grid_template_rows": null,
       "height": null,
       "justify_content": null,
       "justify_items": null,
       "left": null,
       "margin": null,
       "max_height": null,
       "max_width": null,
       "min_height": null,
       "min_width": null,
       "object_fit": null,
       "object_position": null,
       "order": null,
       "overflow": null,
       "padding": null,
       "right": null,
       "top": null,
       "visibility": null,
       "width": null
      }
     },
     "cd866d18cc7648119161dc31b982a531": {
      "model_module": "@jupyter-widgets/controls",
      "model_module_version": "2.0.0",
      "model_name": "DescriptionStyleModel",
      "state": {
       "_model_module": "@jupyter-widgets/controls",
       "_model_module_version": "2.0.0",
       "_model_name": "DescriptionStyleModel",
       "_view_count": null,
       "_view_module": "@jupyter-widgets/base",
       "_view_module_version": "2.0.0",
       "_view_name": "StyleView",
       "description_width": ""
      }
     },
     "f821ae3a78b74400afc7112f4385dad7": {
      "model_module": "@jupyter-widgets/controls",
      "model_module_version": "2.0.0",
      "model_name": "DropdownModel",
      "state": {
       "_dom_classes": [],
       "_model_module": "@jupyter-widgets/controls",
       "_model_module_version": "2.0.0",
       "_model_name": "DropdownModel",
       "_options_labels": [
        "Col0_20220803_2_1_calib_geom_4_marche",
        "Ler_20220803_1_1_calib_geom_3",
        "Ler_20220803_2_1"
       ],
       "_view_count": null,
       "_view_module": "@jupyter-widgets/controls",
       "_view_module_version": "2.0.0",
       "_view_name": "DropdownView",
       "description": "Dataset:",
       "description_allow_html": false,
       "disabled": false,
       "index": 0,
       "layout": "IPY_MODEL_ac70b7a7235e4c809185c3c14ef8ced3",
       "style": "IPY_MODEL_cd866d18cc7648119161dc31b982a531",
       "tabbable": null,
       "tooltip": null
      }
     }
    },
    "version_major": 2,
    "version_minor": 0
   }
  }
 },
 "nbformat": 4,
 "nbformat_minor": 1
}
