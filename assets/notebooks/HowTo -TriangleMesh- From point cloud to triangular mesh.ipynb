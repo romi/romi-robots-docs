{
 "cells": [
  {
   "cell_type": "markdown",
   "id": "136662bc",
   "metadata": {},
   "source": [
    "# HowTo -TriangleMesh- From point cloud to triangular mesh"
   ]
  },
  {
   "cell_type": "markdown",
   "id": "a79e1a30",
   "metadata": {},
   "source": [
    "In this notebook you will learn:\n",
    "\n",
    "1. how to connect to a ROMI database\n",
    "2. how to transform the carved volume into point cloud\n",
    "3. how to visualize the reconstructed point cloud"
   ]
  },
  {
   "cell_type": "markdown",
   "id": "db392d31",
   "metadata": {},
   "source": [
    "This notebook **assume** that you have:\n",
    "- declared the `ROMI_DB` environment variable as the path to the database directory to use\n",
    "- processed the test dataset with the _geometric pipeline,_ so we can access the fileset containing the data we want to start with..."
   ]
  },
  {
   "cell_type": "markdown",
   "id": "27903a04",
   "metadata": {},
   "source": [
    "Remember, the aim of this notebook is to show you how it works \"under the hood\".\n",
    "This is not how you should process your data, that is done thanks to the `romi_run_task` CLI tool."
   ]
  },
  {
   "cell_type": "code",
   "execution_count": null,
   "id": "dc5dcb5f",
   "metadata": {
    "execution": {
     "iopub.execute_input": "2023-06-22T14:22:17.461121Z",
     "iopub.status.busy": "2023-06-22T14:22:17.460960Z",
     "iopub.status.idle": "2023-06-22T14:22:19.094503Z",
     "shell.execute_reply": "2023-06-22T14:22:19.093998Z"
    }
   },
   "outputs": [],
   "source": [
    "import os\n",
    "\n",
    "import ipywidgets as widgets\n",
    "import open3d as o3d\n",
    "import plotly.graph_objects as go\n",
    "from plant3dvision.visu import plotly_pointcloud, plotly_mesh, plotly_pointcloud_data, plotly_mesh_data\n",
    "from plantdb import FSDB\n",
    "from plantdb.io import read_point_cloud"
   ]
  },
  {
   "cell_type": "markdown",
   "id": "e543667b",
   "metadata": {},
   "source": [
    "## Connect to the database & get the initial data"
   ]
  },
  {
   "cell_type": "markdown",
   "id": "62e7ec78",
   "metadata": {},
   "source": [
    "If you did not declare a `ROMI_DB` environment variable, you can do it by uncommenting the next cell and setting it to the right value."
   ]
  },
  {
   "cell_type": "code",
   "execution_count": null,
   "id": "22cef180",
   "metadata": {
    "execution": {
     "iopub.execute_input": "2023-06-22T14:22:19.096441Z",
     "iopub.status.busy": "2023-06-22T14:22:19.096244Z",
     "iopub.status.idle": "2023-06-22T14:22:19.098598Z",
     "shell.execute_reply": "2023-06-22T14:22:19.098243Z"
    }
   },
   "outputs": [],
   "source": [
    "# os.environ['ROMI_DB'] = \"/path/to/test/data\""
   ]
  },
  {
   "cell_type": "markdown",
   "id": "14419856",
   "metadata": {},
   "source": [
    "### Connect to the database"
   ]
  },
  {
   "cell_type": "code",
   "execution_count": null,
   "id": "ad150f24",
   "metadata": {
    "execution": {
     "iopub.execute_input": "2023-06-22T14:22:19.100297Z",
     "iopub.status.busy": "2023-06-22T14:22:19.099962Z",
     "iopub.status.idle": "2023-06-22T14:22:19.212830Z",
     "shell.execute_reply": "2023-06-22T14:22:19.212272Z"
    }
   },
   "outputs": [],
   "source": [
    "db = FSDB(os.environ['ROMI_DB'])  # requires definition of this environment variable!\n",
    "db.connect()"
   ]
  },
  {
   "cell_type": "markdown",
   "id": "47ef6201",
   "metadata": {},
   "source": [
    "Once you are connected to the database, you can list the available scan *dataset* with `db.list_scans()`."
   ]
  },
  {
   "cell_type": "markdown",
   "id": "1739c76c",
   "metadata": {},
   "source": [
    "### Select a dataset\n",
    "\n",
    "We now select a dataset (with the `Dropdown` widget) for the demo:"
   ]
  },
  {
   "cell_type": "code",
   "execution_count": null,
   "id": "7eaa1746",
   "metadata": {
    "execution": {
     "iopub.execute_input": "2023-06-22T14:22:19.214559Z",
     "iopub.status.busy": "2023-06-22T14:22:19.214421Z",
     "iopub.status.idle": "2023-06-22T14:22:19.220469Z",
     "shell.execute_reply": "2023-06-22T14:22:19.219966Z"
    }
   },
   "outputs": [],
   "source": [
    "scan_name = widgets.Dropdown(options=db.list_scans(), value=db.list_scans()[0], description='Dataset:')\n",
    "display(scan_name)"
   ]
  },
  {
   "cell_type": "code",
   "execution_count": null,
   "id": "1ca91126",
   "metadata": {
    "execution": {
     "iopub.execute_input": "2023-06-22T14:22:19.221959Z",
     "iopub.status.busy": "2023-06-22T14:22:19.221832Z",
     "iopub.status.idle": "2023-06-22T14:22:19.224134Z",
     "shell.execute_reply": "2023-06-22T14:22:19.223786Z"
    }
   },
   "outputs": [],
   "source": [
    "scan = db.get_scan(scan_name.value)"
   ]
  },
  {
   "cell_type": "markdown",
   "id": "3eecd40c",
   "metadata": {},
   "source": [
    "If you did not process this dataset yet, from the `plant3dvision` root directory, you can do it with:\n",
    "```\n",
    "romi_run_task AnglesAndInternodes $ROMI_DB/<selected_dataset> --config plant-3d-vision/configs/geom_pipe_real.toml\n",
    "```"
   ]
  },
  {
   "cell_type": "markdown",
   "id": "2d93ee1e",
   "metadata": {},
   "source": [
    "To list the available *filesets* in this *scan dataset*:"
   ]
  },
  {
   "cell_type": "code",
   "execution_count": null,
   "id": "fbfe75a6",
   "metadata": {
    "execution": {
     "iopub.execute_input": "2023-06-22T14:22:19.225852Z",
     "iopub.status.busy": "2023-06-22T14:22:19.225727Z",
     "iopub.status.idle": "2023-06-22T14:22:19.228700Z",
     "shell.execute_reply": "2023-06-22T14:22:19.228368Z"
    }
   },
   "outputs": [],
   "source": [
    "scan.list_filesets()"
   ]
  },
  {
   "cell_type": "markdown",
   "id": "762dfad6",
   "metadata": {},
   "source": [
    "### Get the point cloud fileset\n",
    "\n",
    "The point cloud resulting from a _PointCloud_ task is to be found in the 'PointCloud*' fileset."
   ]
  },
  {
   "cell_type": "code",
   "execution_count": null,
   "id": "5599fa90",
   "metadata": {
    "execution": {
     "iopub.execute_input": "2023-06-22T14:22:19.230038Z",
     "iopub.status.busy": "2023-06-22T14:22:19.229913Z",
     "iopub.status.idle": "2023-06-22T14:22:19.232871Z",
     "shell.execute_reply": "2023-06-22T14:22:19.232522Z"
    }
   },
   "outputs": [],
   "source": [
    "pcd_fs = scan.get_filesets(query={\"task_name\": \"PointCloud\"})[0]\n",
    "print(pcd_fs.path().stem)"
   ]
  },
  {
   "cell_type": "markdown",
   "id": "b7f60182",
   "metadata": {},
   "source": [
    "### Get and load the point cloud file\n",
    "\n",
    "Once you have access to the right fileset, you may access the point cloud file and load it as follows:"
   ]
  },
  {
   "cell_type": "code",
   "execution_count": null,
   "id": "f26c93c2",
   "metadata": {
    "execution": {
     "iopub.execute_input": "2023-06-22T14:22:19.234464Z",
     "iopub.status.busy": "2023-06-22T14:22:19.234270Z",
     "iopub.status.idle": "2023-06-22T14:22:19.243325Z",
     "shell.execute_reply": "2023-06-22T14:22:19.242844Z"
    }
   },
   "outputs": [],
   "source": [
    "pcd_file = pcd_fs.get_files()[0]\n",
    "pcd = read_point_cloud(pcd_file)"
   ]
  },
  {
   "cell_type": "markdown",
   "id": "2715214c",
   "metadata": {},
   "source": [
    "### Visualize the point cloud"
   ]
  },
  {
   "cell_type": "markdown",
   "id": "ef270595",
   "metadata": {},
   "source": [
    "It is possible to visualize the point cloud with the `plotly_pointcloud` method from `plant3dvision.visu` as follows:"
   ]
  },
  {
   "cell_type": "code",
   "execution_count": null,
   "id": "2fc29e0c",
   "metadata": {
    "execution": {
     "iopub.execute_input": "2023-06-22T14:22:19.244919Z",
     "iopub.status.busy": "2023-06-22T14:22:19.244788Z",
     "iopub.status.idle": "2023-06-22T14:22:19.261454Z",
     "shell.execute_reply": "2023-06-22T14:22:19.260949Z"
    }
   },
   "outputs": [],
   "source": [
    "fig = plotly_pointcloud(pcd, n_pts=9000)"
   ]
  },
  {
   "cell_type": "code",
   "execution_count": null,
   "id": "49a728e4",
   "metadata": {
    "execution": {
     "iopub.execute_input": "2023-06-22T14:22:19.263160Z",
     "iopub.status.busy": "2023-06-22T14:22:19.262984Z",
     "iopub.status.idle": "2023-06-22T14:22:19.416884Z",
     "shell.execute_reply": "2023-06-22T14:22:19.416461Z"
    }
   },
   "outputs": [],
   "source": [
    "fig.show()"
   ]
  },
  {
   "cell_type": "markdown",
   "id": "2ee0f03b",
   "metadata": {},
   "source": [
    "## Computing the triangular mesh"
   ]
  },
  {
   "cell_type": "markdown",
   "id": "8eb87708",
   "metadata": {},
   "source": [
    "It is now time to process the *point cloud* to generate a *triangular mesh*."
   ]
  },
  {
   "cell_type": "markdown",
   "id": "778cff83",
   "metadata": {},
   "source": [
    "### Processing with Open3d library\n",
    "\n",
    "This is the default library used to create triangles mesh from point cloud in the geometry-based workflow."
   ]
  },
  {
   "cell_type": "code",
   "execution_count": null,
   "id": "b95a9e33",
   "metadata": {
    "execution": {
     "iopub.execute_input": "2023-06-22T14:22:19.438391Z",
     "iopub.status.busy": "2023-06-22T14:22:19.438165Z",
     "iopub.status.idle": "2023-06-22T14:22:22.447296Z",
     "shell.execute_reply": "2023-06-22T14:22:22.446831Z"
    }
   },
   "outputs": [],
   "source": [
    "tmesh = o3d.geometry.TriangleMesh()\n",
    "tmesh, _ = tmesh.create_from_point_cloud_poisson(pcd, depth=9)"
   ]
  },
  {
   "cell_type": "markdown",
   "id": "c7b90eb0",
   "metadata": {},
   "source": [
    "### Processing with CGAL library\n",
    "\n",
    "For the sake of completeness we also introduce how it can be done with CGAL."
   ]
  },
  {
   "cell_type": "code",
   "execution_count": null,
   "id": "47e7e2eb",
   "metadata": {
    "execution": {
     "iopub.execute_input": "2023-06-22T14:22:22.449686Z",
     "iopub.status.busy": "2023-06-22T14:22:22.449054Z",
     "iopub.status.idle": "2023-06-22T14:22:22.451608Z",
     "shell.execute_reply": "2023-06-22T14:22:22.451276Z"
    }
   },
   "outputs": [],
   "source": [
    "# tmesh = pcd2mesh(pcd)"
   ]
  },
  {
   "cell_type": "markdown",
   "id": "c9c6825c",
   "metadata": {},
   "source": [
    "### Visualize the triangular mesh"
   ]
  },
  {
   "cell_type": "markdown",
   "id": "6b628023",
   "metadata": {},
   "source": [
    "Once the point cloud has been obtained, we can visualize it with the `plotly_mesh` method from `plant3dvision.visu` as follows:"
   ]
  },
  {
   "cell_type": "code",
   "execution_count": null,
   "id": "be2da7a4",
   "metadata": {
    "execution": {
     "iopub.execute_input": "2023-06-22T14:22:22.453271Z",
     "iopub.status.busy": "2023-06-22T14:22:22.453031Z",
     "iopub.status.idle": "2023-06-22T14:22:22.460113Z",
     "shell.execute_reply": "2023-06-22T14:22:22.459571Z"
    }
   },
   "outputs": [],
   "source": [
    "fig = plotly_mesh(tmesh)"
   ]
  },
  {
   "cell_type": "code",
   "execution_count": null,
   "id": "f45c3ad7",
   "metadata": {
    "execution": {
     "iopub.execute_input": "2023-06-22T14:22:22.462114Z",
     "iopub.status.busy": "2023-06-22T14:22:22.461946Z",
     "iopub.status.idle": "2023-06-22T14:22:22.679465Z",
     "shell.execute_reply": "2023-06-22T14:22:22.678906Z"
    }
   },
   "outputs": [],
   "source": [
    "fig.show()"
   ]
  },
  {
   "cell_type": "markdown",
   "id": "ce9b21b9",
   "metadata": {},
   "source": [
    "## Compare the point cloud and mesh\n",
    "\n",
    "Let's represent both objects and see how close they match:"
   ]
  },
  {
   "cell_type": "markdown",
   "id": "358ffd30",
   "metadata": {},
   "source": [
    "Now we generate graph objects for point cloud and mesh:"
   ]
  },
  {
   "cell_type": "code",
   "execution_count": null,
   "id": "68d2f15e",
   "metadata": {
    "execution": {
     "iopub.execute_input": "2023-06-22T14:22:22.757041Z",
     "iopub.status.busy": "2023-06-22T14:22:22.756858Z",
     "iopub.status.idle": "2023-06-22T14:22:22.760899Z",
     "shell.execute_reply": "2023-06-22T14:22:22.760378Z"
    }
   },
   "outputs": [],
   "source": [
    "go_pcd = plotly_pointcloud_data(pcd, marker_kwargs={'size': 3})\n",
    "go_mesh = plotly_mesh_data(tmesh, mesh_kwargs={'opacity': 0.6})"
   ]
  },
  {
   "cell_type": "markdown",
   "id": "8cb2641c",
   "metadata": {},
   "source": [
    "Finally, we use Plotly to represent all this:"
   ]
  },
  {
   "cell_type": "code",
   "execution_count": null,
   "id": "fb1e14fa",
   "metadata": {
    "execution": {
     "iopub.execute_input": "2023-06-22T14:22:22.762823Z",
     "iopub.status.busy": "2023-06-22T14:22:22.762674Z",
     "iopub.status.idle": "2023-06-22T14:22:23.028293Z",
     "shell.execute_reply": "2023-06-22T14:22:23.027733Z"
    }
   },
   "outputs": [],
   "source": [
    "layout_style = dict(height=800, width=800, showlegend=False)\n",
    "fig = go.Figure(data=[go_pcd, go_mesh], layout=layout_style)\n",
    "fig.update_scenes(aspectmode='data')"
   ]
  },
  {
   "cell_type": "markdown",
   "id": "1b9c94c9",
   "metadata": {},
   "source": [
    "We may now **disconnect** from the database as we will not need it anymore:"
   ]
  },
  {
   "cell_type": "code",
   "execution_count": null,
   "id": "b1584f25",
   "metadata": {
    "execution": {
     "iopub.execute_input": "2023-06-22T14:22:23.122431Z",
     "iopub.status.busy": "2023-06-22T14:22:23.122254Z",
     "iopub.status.idle": "2023-06-22T14:22:23.125390Z",
     "shell.execute_reply": "2023-06-22T14:22:23.125022Z"
    }
   },
   "outputs": [],
   "source": [
    "db.disconnect()"
   ]
  },
  {
   "cell_type": "code",
   "execution_count": null,
   "id": "0252e427",
   "metadata": {},
   "outputs": [],
   "source": []
  }
 ],
 "metadata": {
  "kernelspec": {
   "display_name": "Python 3 (ipykernel)",
   "language": "python",
   "name": "python3"
  },
  "language_info": {
   "codemirror_mode": {
    "name": "ipython",
    "version": 3
   },
   "file_extension": ".py",
   "mimetype": "text/x-python",
   "name": "python",
   "nbconvert_exporter": "python",
   "pygments_lexer": "ipython3",
   "version": "3.9.16"
  },
  "widgets": {
   "application/vnd.jupyter.widget-state+json": {
    "state": {
     "2601f99b5fb44844beb7d254eda18795": {
      "model_module": "@jupyter-widgets/controls",
      "model_module_version": "2.0.0",
      "model_name": "DescriptionStyleModel",
      "state": {
       "_model_module": "@jupyter-widgets/controls",
       "_model_module_version": "2.0.0",
       "_model_name": "DescriptionStyleModel",
       "_view_count": null,
       "_view_module": "@jupyter-widgets/base",
       "_view_module_version": "2.0.0",
       "_view_name": "StyleView",
       "description_width": ""
      }
     },
     "4e84d83e2bd34334b61b04a6d6855ea4": {
      "model_module": "@jupyter-widgets/controls",
      "model_module_version": "2.0.0",
      "model_name": "DropdownModel",
      "state": {
       "_dom_classes": [],
       "_model_module": "@jupyter-widgets/controls",
       "_model_module_version": "2.0.0",
       "_model_name": "DropdownModel",
       "_options_labels": [
        "Col0_20220803_2_1_calib_geom_4_marche",
        "Ler_20220803_1_1_calib_geom_3",
        "Ler_20220803_2_1"
       ],
       "_view_count": null,
       "_view_module": "@jupyter-widgets/controls",
       "_view_module_version": "2.0.0",
       "_view_name": "DropdownView",
       "description": "Dataset:",
       "description_allow_html": false,
       "disabled": false,
       "index": 0,
       "layout": "IPY_MODEL_f9f531e90a8e4a3fa9b2de82bdd7bf57",
       "style": "IPY_MODEL_2601f99b5fb44844beb7d254eda18795",
       "tabbable": null,
       "tooltip": null
      }
     },
     "f9f531e90a8e4a3fa9b2de82bdd7bf57": {
      "model_module": "@jupyter-widgets/base",
      "model_module_version": "2.0.0",
      "model_name": "LayoutModel",
      "state": {
       "_model_module": "@jupyter-widgets/base",
       "_model_module_version": "2.0.0",
       "_model_name": "LayoutModel",
       "_view_count": null,
       "_view_module": "@jupyter-widgets/base",
       "_view_module_version": "2.0.0",
       "_view_name": "LayoutView",
       "align_content": null,
       "align_items": null,
       "align_self": null,
       "border_bottom": null,
       "border_left": null,
       "border_right": null,
       "border_top": null,
       "bottom": null,
       "display": null,
       "flex": null,
       "flex_flow": null,
       "grid_area": null,
       "grid_auto_columns": null,
       "grid_auto_flow": null,
       "grid_auto_rows": null,
       "grid_column": null,
       "grid_gap": null,
       "grid_row": null,
       "grid_template_areas": null,
       "grid_template_columns": null,
       "grid_template_rows": null,
       "height": null,
       "justify_content": null,
       "justify_items": null,
       "left": null,
       "margin": null,
       "max_height": null,
       "max_width": null,
       "min_height": null,
       "min_width": null,
       "object_fit": null,
       "object_position": null,
       "order": null,
       "overflow": null,
       "padding": null,
       "right": null,
       "top": null,
       "visibility": null,
       "width": null
      }
     }
    },
    "version_major": 2,
    "version_minor": 0
   }
  }
 },
 "nbformat": 4,
 "nbformat_minor": 5
}
