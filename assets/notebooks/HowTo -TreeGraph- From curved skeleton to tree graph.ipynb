{
 "cells": [
  {
   "cell_type": "markdown",
   "id": "136662bc",
   "metadata": {},
   "source": [
    "# HowTo -TreeGraph- From a curved skeleton to a tree graph"
   ]
  },
  {
   "cell_type": "markdown",
   "id": "27ffdbe8",
   "metadata": {},
   "source": [
    "In this notebook you will learn:\n",
    "\n",
    "1. how to connect to a ROMI database\n",
    "2. how to transform a skeleton into a tree graph\n",
    "3. how to visualize the tree graph"
   ]
  },
  {
   "cell_type": "markdown",
   "id": "717aac2f",
   "metadata": {},
   "source": [
    "This notebook **assume** that you have:\n",
    "- declared the `ROMI_DB` environment variable as the path to the database directory to use\n",
    "- processed the test dataset with the _geometric pipeline,_ so we can access the fileset containing the data we want to start with..."
   ]
  },
  {
   "cell_type": "markdown",
   "id": "9ee859c3",
   "metadata": {},
   "source": [
    "Remember, the aim of this notebook is to show you how it works \"under the hood\".\n",
    "This is not how you should process your data, that is done thanks to the `romi_run_task` CLI tool."
   ]
  },
  {
   "cell_type": "code",
   "execution_count": null,
   "id": "53d3612f",
   "metadata": {
    "execution": {
     "iopub.execute_input": "2023-06-22T14:22:15.083315Z",
     "iopub.status.busy": "2023-06-22T14:22:15.082410Z",
     "iopub.status.idle": "2023-06-22T14:22:15.641899Z",
     "shell.execute_reply": "2023-06-22T14:22:15.641299Z"
    }
   },
   "outputs": [],
   "source": [
    "import os\n",
    "\n",
    "import ipywidgets as widgets\n",
    "from plant3dvision.arabidopsis import compute_tree_graph\n",
    "from plant3dvision.visu import plotly_skeleton, plotly_treegraph\n",
    "from plantdb.fsdb import FSDB\n",
    "from plantdb.io import read_json"
   ]
  },
  {
   "cell_type": "markdown",
   "id": "625ab420",
   "metadata": {},
   "source": [
    "# Connect to the database & get the initial data"
   ]
  },
  {
   "cell_type": "markdown",
   "id": "e13d64d0",
   "metadata": {},
   "source": [
    "If you did not declare a `ROMI_DB` environment variable, you can do it by uncommenting the next cell and setting it to the right value."
   ]
  },
  {
   "cell_type": "code",
   "execution_count": null,
   "id": "29fdce54",
   "metadata": {
    "execution": {
     "iopub.execute_input": "2023-06-22T14:22:15.643777Z",
     "iopub.status.busy": "2023-06-22T14:22:15.643545Z",
     "iopub.status.idle": "2023-06-22T14:22:15.645775Z",
     "shell.execute_reply": "2023-06-22T14:22:15.645448Z"
    }
   },
   "outputs": [],
   "source": [
    "# os.environ['ROMI_DB'] = \"/path/to/test/data\""
   ]
  },
  {
   "cell_type": "markdown",
   "id": "f90f1351",
   "metadata": {},
   "source": [
    "### Connect to the database"
   ]
  },
  {
   "cell_type": "code",
   "execution_count": null,
   "id": "0bf95cf7",
   "metadata": {
    "execution": {
     "iopub.execute_input": "2023-06-22T14:22:15.647381Z",
     "iopub.status.busy": "2023-06-22T14:22:15.647148Z",
     "iopub.status.idle": "2023-06-22T14:22:15.699334Z",
     "shell.execute_reply": "2023-06-22T14:22:15.698782Z"
    }
   },
   "outputs": [],
   "source": [
    "db = FSDB(os.environ['ROMI_DB'])  # requires definition of this environment variable!\n",
    "db.connect()"
   ]
  },
  {
   "cell_type": "markdown",
   "id": "549147d3",
   "metadata": {},
   "source": [
    "Once you are connected to the database, you can list the available scan *dataset* with `db.list_scans()`."
   ]
  },
  {
   "cell_type": "markdown",
   "id": "a049fa80",
   "metadata": {},
   "source": [
    "### Select a dataset\n",
    "\n",
    "We now select a dataset (with the `Dropdown` widget) for the demo:"
   ]
  },
  {
   "cell_type": "code",
   "execution_count": null,
   "id": "3edf2640",
   "metadata": {
    "execution": {
     "iopub.execute_input": "2023-06-22T14:22:15.701109Z",
     "iopub.status.busy": "2023-06-22T14:22:15.700965Z",
     "iopub.status.idle": "2023-06-22T14:22:15.707040Z",
     "shell.execute_reply": "2023-06-22T14:22:15.706485Z"
    }
   },
   "outputs": [],
   "source": [
    "scan_name = widgets.Dropdown(options=db.list_scans(), value=db.list_scans()[0], description='Dataset:')\n",
    "display(scan_name)"
   ]
  },
  {
   "cell_type": "code",
   "execution_count": null,
   "id": "354aebf4",
   "metadata": {
    "execution": {
     "iopub.execute_input": "2023-06-22T14:22:15.708775Z",
     "iopub.status.busy": "2023-06-22T14:22:15.708475Z",
     "iopub.status.idle": "2023-06-22T14:22:15.710783Z",
     "shell.execute_reply": "2023-06-22T14:22:15.710381Z"
    }
   },
   "outputs": [],
   "source": [
    "scan = db.get_scan(scan_name.value)"
   ]
  },
  {
   "cell_type": "markdown",
   "id": "603d9278",
   "metadata": {},
   "source": [
    "If you did not process this dataset yet, from the `plant3dvision` root directory, you can do it with:\n",
    "```\n",
    "romi_run_task AnglesAndInternodes $ROMI_DB/<selected_dataset> --config plant-3d-vision/configs/geom_pipe_real.toml\n",
    "```"
   ]
  },
  {
   "cell_type": "markdown",
   "id": "421ede29",
   "metadata": {},
   "source": [
    "To list the available *filesets* in this *scan dataset*:"
   ]
  },
  {
   "cell_type": "code",
   "execution_count": null,
   "id": "de10902d",
   "metadata": {
    "execution": {
     "iopub.execute_input": "2023-06-22T14:22:15.712489Z",
     "iopub.status.busy": "2023-06-22T14:22:15.712258Z",
     "iopub.status.idle": "2023-06-22T14:22:15.715210Z",
     "shell.execute_reply": "2023-06-22T14:22:15.714889Z"
    }
   },
   "outputs": [],
   "source": [
    "scan.list_filesets()"
   ]
  },
  {
   "cell_type": "markdown",
   "id": "64cc2a6d",
   "metadata": {},
   "source": [
    "### Get the skeleton fileset\n",
    "\n",
    "The skeleton resulting from a _CurveSkeleton_ task is to be found in the 'CurveSkeleton*' fileset."
   ]
  },
  {
   "cell_type": "code",
   "execution_count": null,
   "id": "e9c8afcd",
   "metadata": {
    "execution": {
     "iopub.execute_input": "2023-06-22T14:22:15.716933Z",
     "iopub.status.busy": "2023-06-22T14:22:15.716708Z",
     "iopub.status.idle": "2023-06-22T14:22:15.719503Z",
     "shell.execute_reply": "2023-06-22T14:22:15.718995Z"
    }
   },
   "outputs": [],
   "source": [
    "skel_fs = scan.get_filesets(query={\"task_name\": \"CurveSkeleton\"})[0]\n",
    "print(skel_fs.path().stem)"
   ]
  },
  {
   "cell_type": "markdown",
   "id": "ca67ea4c",
   "metadata": {},
   "source": [
    "### Get and load the skeleton file\n",
    "\n",
    "Once you have access to the right fileset, you may access the skeleton file and load it as follows:"
   ]
  },
  {
   "cell_type": "code",
   "execution_count": null,
   "id": "7d946b33",
   "metadata": {
    "execution": {
     "iopub.execute_input": "2023-06-22T14:22:15.721072Z",
     "iopub.status.busy": "2023-06-22T14:22:15.720850Z",
     "iopub.status.idle": "2023-06-22T14:22:15.724814Z",
     "shell.execute_reply": "2023-06-22T14:22:15.724277Z"
    }
   },
   "outputs": [],
   "source": [
    "skel_file = skel_fs.get_files()[0]\n",
    "skel = read_json(skel_file)"
   ]
  },
  {
   "cell_type": "markdown",
   "id": "2715214c",
   "metadata": {},
   "source": [
    "### Visualize the skeleton\n",
    "\n",
    "It is possible to visualize the skeleton with the `plotly_skeleton` method from `plant3dvision.visu` as follows:"
   ]
  },
  {
   "cell_type": "code",
   "execution_count": null,
   "id": "4595aa9d",
   "metadata": {
    "execution": {
     "iopub.execute_input": "2023-06-22T14:22:15.726473Z",
     "iopub.status.busy": "2023-06-22T14:22:15.726182Z",
     "iopub.status.idle": "2023-06-22T14:22:15.931469Z",
     "shell.execute_reply": "2023-06-22T14:22:15.930894Z"
    }
   },
   "outputs": [],
   "source": [
    "fig = plotly_skeleton(skel)"
   ]
  },
  {
   "cell_type": "code",
   "execution_count": null,
   "id": "e27efdad",
   "metadata": {
    "execution": {
     "iopub.execute_input": "2023-06-22T14:22:15.933419Z",
     "iopub.status.busy": "2023-06-22T14:22:15.933247Z",
     "iopub.status.idle": "2023-06-22T14:22:16.014163Z",
     "shell.execute_reply": "2023-06-22T14:22:16.013643Z"
    }
   },
   "outputs": [],
   "source": [
    "fig.show()"
   ]
  },
  {
   "cell_type": "markdown",
   "id": "2ee0f03b",
   "metadata": {},
   "source": [
    "## Computing the tree graph"
   ]
  },
  {
   "cell_type": "markdown",
   "id": "8eb87708",
   "metadata": {},
   "source": [
    "It is now time to process the *skeleton* to generate a *tree graph*.\n",
    "\n",
    "This is done with the `compute_tree_graph` function from `plant3dvision.arabidopsis` as follows:"
   ]
  },
  {
   "cell_type": "code",
   "execution_count": null,
   "id": "206a0346",
   "metadata": {
    "execution": {
     "iopub.execute_input": "2023-06-22T14:22:16.068948Z",
     "iopub.status.busy": "2023-06-22T14:22:16.068742Z",
     "iopub.status.idle": "2023-06-22T14:22:16.159095Z",
     "shell.execute_reply": "2023-06-22T14:22:16.158549Z"
    }
   },
   "outputs": [],
   "source": [
    "tree = compute_tree_graph(skel[\"points\"], skel[\"lines\"], stem_axis=2, stem_axis_inverted=False)"
   ]
  },
  {
   "cell_type": "code",
   "execution_count": null,
   "id": "cbd388eb",
   "metadata": {
    "execution": {
     "iopub.execute_input": "2023-06-22T14:22:16.161025Z",
     "iopub.status.busy": "2023-06-22T14:22:16.160786Z",
     "iopub.status.idle": "2023-06-22T14:22:16.163689Z",
     "shell.execute_reply": "2023-06-22T14:22:16.163344Z"
    }
   },
   "outputs": [],
   "source": [
    "node_labels = [\"_\".join(tree.nodes[i].get('labels')) for i in range(len(tree.nodes))]\n",
    "print(set(node_labels))"
   ]
  },
  {
   "cell_type": "markdown",
   "id": "5254541a",
   "metadata": {},
   "source": [
    "Note that the nodes of the tree graph have a \"label\" that describe their *nature* in:\n",
    "\n",
    "* fruit\n",
    "* stem\n",
    "* stem_node"
   ]
  },
  {
   "cell_type": "markdown",
   "id": "5953b664",
   "metadata": {},
   "source": [
    "### Visualize the tree graph\n",
    "\n",
    "Once the tree graph has been obtained, we can visualize it with the `plotly_treegraph` method from `plant3dvision.visu` as follows:"
   ]
  },
  {
   "cell_type": "code",
   "execution_count": null,
   "id": "12428967",
   "metadata": {
    "execution": {
     "iopub.execute_input": "2023-06-22T14:22:16.165317Z",
     "iopub.status.busy": "2023-06-22T14:22:16.165100Z",
     "iopub.status.idle": "2023-06-22T14:22:16.289202Z",
     "shell.execute_reply": "2023-06-22T14:22:16.288578Z"
    }
   },
   "outputs": [],
   "source": [
    "fig = plotly_treegraph(tree)"
   ]
  },
  {
   "cell_type": "code",
   "execution_count": null,
   "id": "b40aea16",
   "metadata": {
    "execution": {
     "iopub.execute_input": "2023-06-22T14:22:16.290928Z",
     "iopub.status.busy": "2023-06-22T14:22:16.290772Z",
     "iopub.status.idle": "2023-06-22T14:22:16.302829Z",
     "shell.execute_reply": "2023-06-22T14:22:16.302334Z"
    }
   },
   "outputs": [],
   "source": [
    "fig.show()"
   ]
  },
  {
   "cell_type": "markdown",
   "id": "58247cb2",
   "metadata": {},
   "source": [
    "We may now **disconnect** from the database as we will not need it anymore:"
   ]
  },
  {
   "cell_type": "code",
   "execution_count": null,
   "id": "cec62a54",
   "metadata": {
    "execution": {
     "iopub.execute_input": "2023-06-22T14:22:16.306471Z",
     "iopub.status.busy": "2023-06-22T14:22:16.306284Z",
     "iopub.status.idle": "2023-06-22T14:22:16.309140Z",
     "shell.execute_reply": "2023-06-22T14:22:16.308816Z"
    }
   },
   "outputs": [],
   "source": [
    "db.disconnect()"
   ]
  }
 ],
 "metadata": {
  "kernelspec": {
   "display_name": "Python 3 (ipykernel)",
   "language": "python",
   "name": "python3"
  },
  "language_info": {
   "codemirror_mode": {
    "name": "ipython",
    "version": 3
   },
   "file_extension": ".py",
   "mimetype": "text/x-python",
   "name": "python",
   "nbconvert_exporter": "python",
   "pygments_lexer": "ipython3",
   "version": "3.9.16"
  },
  "widgets": {
   "application/vnd.jupyter.widget-state+json": {
    "state": {
     "6e194e49a8f8425e9dc22ac5ea4f27cb": {
      "model_module": "@jupyter-widgets/controls",
      "model_module_version": "2.0.0",
      "model_name": "DescriptionStyleModel",
      "state": {
       "_model_module": "@jupyter-widgets/controls",
       "_model_module_version": "2.0.0",
       "_model_name": "DescriptionStyleModel",
       "_view_count": null,
       "_view_module": "@jupyter-widgets/base",
       "_view_module_version": "2.0.0",
       "_view_name": "StyleView",
       "description_width": ""
      }
     },
     "70dd2f93da414e87af3641463aa803a9": {
      "model_module": "@jupyter-widgets/base",
      "model_module_version": "2.0.0",
      "model_name": "LayoutModel",
      "state": {
       "_model_module": "@jupyter-widgets/base",
       "_model_module_version": "2.0.0",
       "_model_name": "LayoutModel",
       "_view_count": null,
       "_view_module": "@jupyter-widgets/base",
       "_view_module_version": "2.0.0",
       "_view_name": "LayoutView",
       "align_content": null,
       "align_items": null,
       "align_self": null,
       "border_bottom": null,
       "border_left": null,
       "border_right": null,
       "border_top": null,
       "bottom": null,
       "display": null,
       "flex": null,
       "flex_flow": null,
       "grid_area": null,
       "grid_auto_columns": null,
       "grid_auto_flow": null,
       "grid_auto_rows": null,
       "grid_column": null,
       "grid_gap": null,
       "grid_row": null,
       "grid_template_areas": null,
       "grid_template_columns": null,
       "grid_template_rows": null,
       "height": null,
       "justify_content": null,
       "justify_items": null,
       "left": null,
       "margin": null,
       "max_height": null,
       "max_width": null,
       "min_height": null,
       "min_width": null,
       "object_fit": null,
       "object_position": null,
       "order": null,
       "overflow": null,
       "padding": null,
       "right": null,
       "top": null,
       "visibility": null,
       "width": null
      }
     },
     "a3233f62632a487caec39f90a21e5b4b": {
      "model_module": "@jupyter-widgets/controls",
      "model_module_version": "2.0.0",
      "model_name": "DropdownModel",
      "state": {
       "_dom_classes": [],
       "_model_module": "@jupyter-widgets/controls",
       "_model_module_version": "2.0.0",
       "_model_name": "DropdownModel",
       "_options_labels": [
        "Col0_20220803_2_1_calib_geom_4_marche",
        "Ler_20220803_1_1_calib_geom_3",
        "Ler_20220803_2_1"
       ],
       "_view_count": null,
       "_view_module": "@jupyter-widgets/controls",
       "_view_module_version": "2.0.0",
       "_view_name": "DropdownView",
       "description": "Dataset:",
       "description_allow_html": false,
       "disabled": false,
       "index": 0,
       "layout": "IPY_MODEL_70dd2f93da414e87af3641463aa803a9",
       "style": "IPY_MODEL_6e194e49a8f8425e9dc22ac5ea4f27cb",
       "tabbable": null,
       "tooltip": null
      }
     }
    },
    "version_major": 2,
    "version_minor": 0
   }
  }
 },
 "nbformat": 4,
 "nbformat_minor": 5
}
