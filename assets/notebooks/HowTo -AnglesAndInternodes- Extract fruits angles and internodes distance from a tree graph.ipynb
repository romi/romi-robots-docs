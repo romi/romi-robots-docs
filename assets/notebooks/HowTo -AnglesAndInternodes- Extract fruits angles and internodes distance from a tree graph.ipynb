{
 "cells": [
  {
   "cell_type": "markdown",
   "id": "136662bc",
   "metadata": {},
   "source": [
    "# HowTo -AnglesAndInternodes- Extract fruits angles and internodes distance from a tree graph"
   ]
  },
  {
   "cell_type": "markdown",
   "id": "cdf9d84d",
   "metadata": {},
   "source": [
    "In this notebook you will learn:\n",
    "\n",
    "1. how to connect to a ROMI database\n",
    "2. how to extract fruits sequences of successive angles and internode lengths\n",
    "3. how to visualize the estimated fruit directions"
   ]
  },
  {
   "cell_type": "markdown",
   "id": "7c60be5d",
   "metadata": {},
   "source": [
    "This notebook **assume** that you have:\n",
    "- declared the `ROMI_DB` environment variable as the path to the database directory to use\n",
    "- processed the test dataset with the _geometric pipeline,_ so we can access the fileset containing the data we want to start with..."
   ]
  },
  {
   "cell_type": "markdown",
   "id": "dec466a0",
   "metadata": {},
   "source": [
    "Remember, the aim of this notebook is to show you how it works \"under the hood\".\n",
    "This is not how you should process your data, that is done thanks to the `romi_run_task` CLI tool."
   ]
  },
  {
   "cell_type": "code",
   "execution_count": null,
   "id": "fd443ca3",
   "metadata": {
    "ExecuteTime": {
     "end_time": "2023-06-20T13:59:11.095202452Z",
     "start_time": "2023-06-20T13:59:10.141623057Z"
    },
    "execution": {
     "iopub.execute_input": "2023-06-22T16:48:12.518054Z",
     "iopub.status.busy": "2023-06-22T16:48:12.517890Z",
     "iopub.status.idle": "2023-06-22T16:48:13.095445Z",
     "shell.execute_reply": "2023-06-22T16:48:13.094912Z"
    }
   },
   "outputs": [],
   "source": [
    "import os\n",
    "from math import degrees\n",
    "\n",
    "import ipywidgets as widgets\n",
    "import plotly.graph_objects as go\n",
    "from plant3dvision.arabidopsis import compute_stem_and_fruit_directions, \\\n",
    "    compute_angles_and_internodes_from_directions\n",
    "from plant3dvision.visu import plotly_treegraph, plotly_sequences, plotly_pointcloud_data, plotly_direction_data\n",
    "from plantdb.fsdb import FSDB\n",
    "from plantdb.io import read_graph, read_point_cloud"
   ]
  },
  {
   "cell_type": "markdown",
   "id": "fd139894",
   "metadata": {},
   "source": [
    "# Connect to the database & get the initial data"
   ]
  },
  {
   "cell_type": "markdown",
   "id": "f63cc71e",
   "metadata": {},
   "source": [
    "If you did not declare a `ROMI_DB` environment variable, you can do it by uncommenting the next cell and setting it to the right value."
   ]
  },
  {
   "cell_type": "code",
   "execution_count": null,
   "id": "62da5c3e",
   "metadata": {
    "ExecuteTime": {
     "end_time": "2023-06-20T13:59:11.095308601Z",
     "start_time": "2023-06-20T13:59:10.756170893Z"
    },
    "execution": {
     "iopub.execute_input": "2023-06-22T16:48:13.097685Z",
     "iopub.status.busy": "2023-06-22T16:48:13.097326Z",
     "iopub.status.idle": "2023-06-22T16:48:13.100102Z",
     "shell.execute_reply": "2023-06-22T16:48:13.099684Z"
    }
   },
   "outputs": [],
   "source": [
    "# os.environ['ROMI_DB'] = \"/path/to/test/data\""
   ]
  },
  {
   "cell_type": "markdown",
   "id": "a5b4ccfe",
   "metadata": {},
   "source": [
    "### Connect to the database"
   ]
  },
  {
   "cell_type": "code",
   "execution_count": null,
   "id": "74417023",
   "metadata": {
    "ExecuteTime": {
     "end_time": "2023-06-20T13:59:11.095429677Z",
     "start_time": "2023-06-20T13:59:10.756337378Z"
    },
    "execution": {
     "iopub.execute_input": "2023-06-22T16:48:13.101695Z",
     "iopub.status.busy": "2023-06-22T16:48:13.101534Z",
     "iopub.status.idle": "2023-06-22T16:48:16.493042Z",
     "shell.execute_reply": "2023-06-22T16:48:16.492032Z"
    }
   },
   "outputs": [],
   "source": [
    "db = FSDB(os.environ['ROMI_DB'])  # requires definition of this environment variable!\n",
    "db.connect()"
   ]
  },
  {
   "cell_type": "markdown",
   "id": "30669063",
   "metadata": {},
   "source": [
    "Once you are connected to the database, you can list the available scan *dataset* with `db.list_scans()`."
   ]
  },
  {
   "cell_type": "markdown",
   "id": "13f77fe8",
   "metadata": {},
   "source": [
    "### Select a dataset\n",
    "\n",
    "We now select a dataset (with the `Dropdown` widget) for the demo:"
   ]
  },
  {
   "cell_type": "code",
   "execution_count": null,
   "id": "fc332ce1",
   "metadata": {
    "ExecuteTime": {
     "end_time": "2023-06-20T13:59:11.095608463Z",
     "start_time": "2023-06-20T13:59:10.822134117Z"
    },
    "execution": {
     "iopub.execute_input": "2023-06-22T16:48:16.496504Z",
     "iopub.status.busy": "2023-06-22T16:48:16.496239Z",
     "iopub.status.idle": "2023-06-22T16:48:16.505018Z",
     "shell.execute_reply": "2023-06-22T16:48:16.504574Z"
    }
   },
   "outputs": [],
   "source": [
    "scan_name = widgets.Dropdown(options=db.list_scans(), value=db.list_scans()[0], description='Dataset:')\n",
    "display(scan_name)"
   ]
  },
  {
   "cell_type": "code",
   "execution_count": null,
   "id": "224d10e3",
   "metadata": {
    "ExecuteTime": {
     "end_time": "2023-06-20T13:59:11.095685391Z",
     "start_time": "2023-06-20T13:59:10.829434312Z"
    },
    "execution": {
     "iopub.execute_input": "2023-06-22T16:48:16.506748Z",
     "iopub.status.busy": "2023-06-22T16:48:16.506400Z",
     "iopub.status.idle": "2023-06-22T16:48:16.509052Z",
     "shell.execute_reply": "2023-06-22T16:48:16.508603Z"
    }
   },
   "outputs": [],
   "source": [
    "scan = db.get_scan(scan_name.value)"
   ]
  },
  {
   "cell_type": "markdown",
   "id": "a696cf9f",
   "metadata": {},
   "source": [
    "If you did not process this dataset yet, from the `plant3dvision` root directory, you can do it with:\n",
    "```\n",
    "romi_run_task AnglesAndInternodes $ROMI_DB/<selected_dataset> --config plant-3d-vision/configs/geom_pipe_real.toml\n",
    "```"
   ]
  },
  {
   "cell_type": "markdown",
   "id": "2a1bdc73",
   "metadata": {},
   "source": [
    "To list the available *filesets* in this *scan dataset*:"
   ]
  },
  {
   "cell_type": "code",
   "execution_count": null,
   "id": "6423770f",
   "metadata": {
    "ExecuteTime": {
     "end_time": "2023-06-20T13:59:11.095927668Z",
     "start_time": "2023-06-20T13:59:10.835355114Z"
    },
    "execution": {
     "iopub.execute_input": "2023-06-22T16:48:16.510730Z",
     "iopub.status.busy": "2023-06-22T16:48:16.510567Z",
     "iopub.status.idle": "2023-06-22T16:48:16.513934Z",
     "shell.execute_reply": "2023-06-22T16:48:16.513587Z"
    }
   },
   "outputs": [],
   "source": [
    "scan.list_filesets()"
   ]
  },
  {
   "cell_type": "markdown",
   "id": "64cc2a6d",
   "metadata": {},
   "source": [
    "### Get the skeleton fileset\n",
    "\n",
    "The skeleton resulting from a _CurveSkeleton_ task is to be found in the 'CurveSkeleton*' fileset."
   ]
  },
  {
   "cell_type": "code",
   "execution_count": null,
   "id": "e9c8afcd",
   "metadata": {
    "ExecuteTime": {
     "end_time": "2023-06-20T13:59:11.096092258Z",
     "start_time": "2023-06-20T13:59:10.880205677Z"
    },
    "execution": {
     "iopub.execute_input": "2023-06-22T16:48:16.515470Z",
     "iopub.status.busy": "2023-06-22T16:48:16.515272Z",
     "iopub.status.idle": "2023-06-22T16:48:16.518316Z",
     "shell.execute_reply": "2023-06-22T16:48:16.517881Z"
    }
   },
   "outputs": [],
   "source": [
    "tree_fs = scan.get_filesets(query={\"task_name\": \"TreeGraph\"})[0]\n",
    "print(tree_fs.path().stem)"
   ]
  },
  {
   "cell_type": "markdown",
   "id": "ca67ea4c",
   "metadata": {},
   "source": [
    "### Get and load the skeleton file\n",
    "\n",
    "Once you have access to the right fileset, you may access the skeleton file and load it as follows:"
   ]
  },
  {
   "cell_type": "code",
   "execution_count": null,
   "id": "7d946b33",
   "metadata": {
    "ExecuteTime": {
     "end_time": "2023-06-20T13:59:11.096169724Z",
     "start_time": "2023-06-20T13:59:10.880390718Z"
    },
    "execution": {
     "iopub.execute_input": "2023-06-22T16:48:16.520006Z",
     "iopub.status.busy": "2023-06-22T16:48:16.519809Z",
     "iopub.status.idle": "2023-06-22T16:48:16.545324Z",
     "shell.execute_reply": "2023-06-22T16:48:16.543110Z"
    }
   },
   "outputs": [],
   "source": [
    "tree_file = tree_fs.get_files()[0]\n",
    "tree = read_graph(tree_file)"
   ]
  },
  {
   "cell_type": "markdown",
   "id": "2715214c",
   "metadata": {},
   "source": [
    "### Visualize the tree graph\n",
    "\n",
    "It is possible to visualize the tree graph with the `plotly_treegraph` method from `plant3dvision.visu` as follows:"
   ]
  },
  {
   "cell_type": "code",
   "execution_count": null,
   "id": "4595aa9d",
   "metadata": {
    "ExecuteTime": {
     "end_time": "2023-06-20T13:59:11.096735518Z",
     "start_time": "2023-06-20T13:59:10.880522138Z"
    },
    "execution": {
     "iopub.execute_input": "2023-06-22T16:48:16.551868Z",
     "iopub.status.busy": "2023-06-22T16:48:16.551466Z",
     "iopub.status.idle": "2023-06-22T16:48:16.716512Z",
     "shell.execute_reply": "2023-06-22T16:48:16.715871Z"
    }
   },
   "outputs": [],
   "source": [
    "fig = plotly_treegraph(tree)"
   ]
  },
  {
   "cell_type": "code",
   "execution_count": null,
   "id": "e27efdad",
   "metadata": {
    "ExecuteTime": {
     "end_time": "2023-06-20T13:59:11.302570536Z",
     "start_time": "2023-06-20T13:59:11.017249956Z"
    },
    "execution": {
     "iopub.execute_input": "2023-06-22T16:48:16.718587Z",
     "iopub.status.busy": "2023-06-22T16:48:16.718415Z",
     "iopub.status.idle": "2023-06-22T16:48:16.782653Z",
     "shell.execute_reply": "2023-06-22T16:48:16.782260Z"
    }
   },
   "outputs": [],
   "source": [
    "fig.show()"
   ]
  },
  {
   "cell_type": "markdown",
   "id": "2ee0f03b",
   "metadata": {},
   "source": [
    "## Computing the angle and internode sequences"
   ]
  },
  {
   "cell_type": "markdown",
   "id": "8eb87708",
   "metadata": {},
   "source": [
    "It is now time to process the *tree graph* to get the sequences of successive angles and internode lengths between the fruits.\n",
    "\n",
    "This is done in two steps:\n",
    "1. compute the stem directions, the fruit directions and the branching point positions\n",
    "2. compute the angle and internode sequences using the fruit directions and the branching point positions"
   ]
  },
  {
   "cell_type": "markdown",
   "id": "c0ac91cc",
   "metadata": {},
   "source": [
    "### Compute the stem directions, the fruit directions and the branching point positions\n",
    "\n",
    "This is done with the `compute_stem_and_fruit_directions` function from `plant3dvision.arabidopsis` as follows:"
   ]
  },
  {
   "cell_type": "code",
   "execution_count": null,
   "id": "206a0346",
   "metadata": {
    "ExecuteTime": {
     "end_time": "2023-06-20T13:59:11.302829585Z",
     "start_time": "2023-06-20T13:59:11.292150307Z"
    },
    "execution": {
     "iopub.execute_input": "2023-06-22T16:48:16.805143Z",
     "iopub.status.busy": "2023-06-22T16:48:16.804904Z",
     "iopub.status.idle": "2023-06-22T16:48:16.849649Z",
     "shell.execute_reply": "2023-06-22T16:48:16.849270Z"
    }
   },
   "outputs": [],
   "source": [
    "fruit_dirs, stem_dirs, bp_coords, fruit_pts = compute_stem_and_fruit_directions(tree, max_node_dist=10.,\n",
    "                                                                                min_fruit_length=10.)"
   ]
  },
  {
   "cell_type": "markdown",
   "id": "8fdedf9c",
   "metadata": {},
   "source": [
    "### Visualize the estimated fruit directions and branching points\n",
    "\n",
    "Let's represent both objects and see how good the estimations are for the fruit directions and their branching points."
   ]
  },
  {
   "cell_type": "markdown",
   "id": "c0ef8d40",
   "metadata": {},
   "source": [
    "Let's start by loading the point cloud to get a \"reference\":"
   ]
  },
  {
   "cell_type": "code",
   "execution_count": null,
   "id": "ecda79dc",
   "metadata": {
    "ExecuteTime": {
     "end_time": "2023-06-20T13:59:12.936839591Z",
     "start_time": "2023-06-20T13:59:11.292351928Z"
    },
    "execution": {
     "iopub.execute_input": "2023-06-22T16:48:16.851442Z",
     "iopub.status.busy": "2023-06-22T16:48:16.851271Z",
     "iopub.status.idle": "2023-06-22T16:48:19.797570Z",
     "shell.execute_reply": "2023-06-22T16:48:19.795460Z"
    }
   },
   "outputs": [],
   "source": [
    "pcd_fs = scan.get_filesets(query={\"task_name\": \"PointCloud\"})[0]\n",
    "pcd_file = pcd_fs.get_files()[0]\n",
    "pcd = read_point_cloud(pcd_file)"
   ]
  },
  {
   "cell_type": "markdown",
   "id": "0fb5806a",
   "metadata": {},
   "source": [
    "Now we generate graph objects for point cloud and fruit directions:"
   ]
  },
  {
   "cell_type": "code",
   "execution_count": null,
   "id": "d5590d4e",
   "metadata": {
    "ExecuteTime": {
     "end_time": "2023-06-20T13:59:12.951225086Z",
     "start_time": "2023-06-20T13:59:12.939708600Z"
    },
    "execution": {
     "iopub.execute_input": "2023-06-22T16:48:19.804809Z",
     "iopub.status.busy": "2023-06-22T16:48:19.803851Z",
     "iopub.status.idle": "2023-06-22T16:48:19.832095Z",
     "shell.execute_reply": "2023-06-22T16:48:19.830495Z"
    }
   },
   "outputs": [],
   "source": [
    "go_pcd = plotly_pointcloud_data(pcd, marker_kwargs={'size': 1})\n",
    "go_dir = plotly_direction_data(fruit_dirs, bp_coords, 'fruit')"
   ]
  },
  {
   "cell_type": "markdown",
   "id": "2f1299a0",
   "metadata": {},
   "source": [
    "Finally, we use Plotly to represent all this:"
   ]
  },
  {
   "cell_type": "code",
   "execution_count": null,
   "id": "5771cb8d",
   "metadata": {
    "ExecuteTime": {
     "end_time": "2023-06-20T13:59:13.088384995Z",
     "start_time": "2023-06-20T13:59:12.954285333Z"
    },
    "execution": {
     "iopub.execute_input": "2023-06-22T16:48:19.837852Z",
     "iopub.status.busy": "2023-06-22T16:48:19.837468Z",
     "iopub.status.idle": "2023-06-22T16:48:19.897937Z",
     "shell.execute_reply": "2023-06-22T16:48:19.897438Z"
    }
   },
   "outputs": [],
   "source": [
    "layout_style = dict(height=900, width=800, showlegend=False)\n",
    "fig = go.Figure(data=[go_pcd] + go_dir, layout=layout_style)\n",
    "fig.update_scenes(aspectmode='data')"
   ]
  },
  {
   "cell_type": "markdown",
   "id": "90d2cdd9",
   "metadata": {},
   "source": [
    "### Compute the angle and internode sequences\n",
    "\n",
    "This is done with the `compute_angles_and_internodes_from_directions` function from `plant3dvision.arabidopsis` as follows:"
   ]
  },
  {
   "cell_type": "code",
   "execution_count": null,
   "id": "1b38d35b",
   "metadata": {
    "ExecuteTime": {
     "end_time": "2023-06-20T13:59:13.200300620Z",
     "start_time": "2023-06-20T13:59:13.197935722Z"
    },
    "execution": {
     "iopub.execute_input": "2023-06-22T16:48:19.912618Z",
     "iopub.status.busy": "2023-06-22T16:48:19.912466Z",
     "iopub.status.idle": "2023-06-22T16:48:19.921120Z",
     "shell.execute_reply": "2023-06-22T16:48:19.920647Z"
    }
   },
   "outputs": [],
   "source": [
    "sequences = compute_angles_and_internodes_from_directions(fruit_dirs, stem_dirs, bp_coords)"
   ]
  },
  {
   "cell_type": "markdown",
   "id": "a5e8c495",
   "metadata": {},
   "source": [
    "As the returned angles are in radians, we convert them to degrees:"
   ]
  },
  {
   "cell_type": "code",
   "execution_count": null,
   "id": "8ccca064",
   "metadata": {
    "ExecuteTime": {
     "end_time": "2023-06-20T13:59:13.210258687Z",
     "start_time": "2023-06-20T13:59:13.202926423Z"
    },
    "execution": {
     "iopub.execute_input": "2023-06-22T16:48:19.922752Z",
     "iopub.status.busy": "2023-06-22T16:48:19.922548Z",
     "iopub.status.idle": "2023-06-22T16:48:19.924974Z",
     "shell.execute_reply": "2023-06-22T16:48:19.924485Z"
    }
   },
   "outputs": [],
   "source": [
    "sequences['angles'] = list(map(degrees, sequences['angles']))"
   ]
  },
  {
   "cell_type": "markdown",
   "id": "ec9522c1",
   "metadata": {},
   "source": [
    "### Visualize the sequences\n",
    "\n",
    "Once the sequences of angles and internodes has been obtained, we can visualize them with the `plotly_sequences` method from `plant3dvision.visu` as follows:"
   ]
  },
  {
   "cell_type": "code",
   "execution_count": null,
   "id": "f01fc6a4",
   "metadata": {
    "ExecuteTime": {
     "end_time": "2023-06-20T13:59:13.327533266Z",
     "start_time": "2023-06-20T13:59:13.244133785Z"
    },
    "execution": {
     "iopub.execute_input": "2023-06-22T16:48:19.926414Z",
     "iopub.status.busy": "2023-06-22T16:48:19.926279Z",
     "iopub.status.idle": "2023-06-22T16:48:19.981724Z",
     "shell.execute_reply": "2023-06-22T16:48:19.981223Z"
    }
   },
   "outputs": [],
   "source": [
    "fig = plotly_sequences(sequences, height=600)"
   ]
  },
  {
   "cell_type": "code",
   "execution_count": null,
   "id": "0dba9eda",
   "metadata": {
    "ExecuteTime": {
     "end_time": "2023-06-20T13:59:13.349897902Z",
     "start_time": "2023-06-20T13:59:13.244338978Z"
    },
    "execution": {
     "iopub.execute_input": "2023-06-22T16:48:19.983321Z",
     "iopub.status.busy": "2023-06-22T16:48:19.983174Z",
     "iopub.status.idle": "2023-06-22T16:48:19.987758Z",
     "shell.execute_reply": "2023-06-22T16:48:19.987375Z"
    }
   },
   "outputs": [],
   "source": [
    "fig.show()"
   ]
  },
  {
   "cell_type": "markdown",
   "id": "3cda62a0",
   "metadata": {},
   "source": [
    "We may now **disconnect** from the database as we will not need it anymore:"
   ]
  },
  {
   "cell_type": "code",
   "execution_count": null,
   "id": "c27d5d0b",
   "metadata": {
    "ExecuteTime": {
     "end_time": "2023-06-20T13:59:13.350054751Z",
     "start_time": "2023-06-20T13:59:13.244993372Z"
    },
    "execution": {
     "iopub.execute_input": "2023-06-22T16:48:19.989258Z",
     "iopub.status.busy": "2023-06-22T16:48:19.989111Z",
     "iopub.status.idle": "2023-06-22T16:48:19.992478Z",
     "shell.execute_reply": "2023-06-22T16:48:19.991895Z"
    }
   },
   "outputs": [],
   "source": [
    "db.disconnect()"
   ]
  }
 ],
 "metadata": {
  "kernelspec": {
   "display_name": "Python 3 (ipykernel)",
   "language": "python",
   "name": "python3"
  },
  "language_info": {
   "codemirror_mode": {
    "name": "ipython",
    "version": 3
   },
   "file_extension": ".py",
   "mimetype": "text/x-python",
   "name": "python",
   "nbconvert_exporter": "python",
   "pygments_lexer": "ipython3",
   "version": "3.9.16"
  },
  "widgets": {
   "application/vnd.jupyter.widget-state+json": {
    "state": {
     "085c5290917a4c30a3d086b874b0d382": {
      "model_module": "@jupyter-widgets/controls",
      "model_module_version": "2.0.0",
      "model_name": "DescriptionStyleModel",
      "state": {
       "_model_module": "@jupyter-widgets/controls",
       "_model_module_version": "2.0.0",
       "_model_name": "DescriptionStyleModel",
       "_view_count": null,
       "_view_module": "@jupyter-widgets/base",
       "_view_module_version": "2.0.0",
       "_view_name": "StyleView",
       "description_width": ""
      }
     },
     "0987162253b146519cbcee198e1c6f2e": {
      "model_module": "@jupyter-widgets/base",
      "model_module_version": "2.0.0",
      "model_name": "LayoutModel",
      "state": {
       "_model_module": "@jupyter-widgets/base",
       "_model_module_version": "2.0.0",
       "_model_name": "LayoutModel",
       "_view_count": null,
       "_view_module": "@jupyter-widgets/base",
       "_view_module_version": "2.0.0",
       "_view_name": "LayoutView",
       "align_content": null,
       "align_items": null,
       "align_self": null,
       "border_bottom": null,
       "border_left": null,
       "border_right": null,
       "border_top": null,
       "bottom": null,
       "display": null,
       "flex": null,
       "flex_flow": null,
       "grid_area": null,
       "grid_auto_columns": null,
       "grid_auto_flow": null,
       "grid_auto_rows": null,
       "grid_column": null,
       "grid_gap": null,
       "grid_row": null,
       "grid_template_areas": null,
       "grid_template_columns": null,
       "grid_template_rows": null,
       "height": null,
       "justify_content": null,
       "justify_items": null,
       "left": null,
       "margin": null,
       "max_height": null,
       "max_width": null,
       "min_height": null,
       "min_width": null,
       "object_fit": null,
       "object_position": null,
       "order": null,
       "overflow": null,
       "padding": null,
       "right": null,
       "top": null,
       "visibility": null,
       "width": null
      }
     },
     "4cad61d395fd40f39fbf598ade27e7dd": {
      "model_module": "@jupyter-widgets/controls",
      "model_module_version": "2.0.0",
      "model_name": "DropdownModel",
      "state": {
       "_dom_classes": [],
       "_model_module": "@jupyter-widgets/controls",
       "_model_module_version": "2.0.0",
       "_model_name": "DropdownModel",
       "_options_labels": [
        "Col0_20220803_2_1_calib_geom_4_marche",
        "Ler_20220803_1_1_calib_geom_3",
        "Ler_20220803_2_1"
       ],
       "_view_count": null,
       "_view_module": "@jupyter-widgets/controls",
       "_view_module_version": "2.0.0",
       "_view_name": "DropdownView",
       "description": "Dataset:",
       "description_allow_html": false,
       "disabled": false,
       "index": 0,
       "layout": "IPY_MODEL_0987162253b146519cbcee198e1c6f2e",
       "style": "IPY_MODEL_085c5290917a4c30a3d086b874b0d382",
       "tabbable": null,
       "tooltip": null
      }
     }
    },
    "version_major": 2,
    "version_minor": 0
   }
  }
 },
 "nbformat": 4,
 "nbformat_minor": 5
}
