{
 "cells": [
  {
   "cell_type": "markdown",
   "metadata": {},
   "source": [
    "# HowTo -Voxels- From mask images and camera coordinates to volume"
   ]
  },
  {
   "cell_type": "markdown",
   "metadata": {},
   "source": [
    "In this notebook you will learn:\n",
    "\n",
    "1. how to connect to a ROMI database\n",
    "2. how to use our custom space-carving method to reconstruct the volume\n",
    "3. how to visualize the reconstructed volume"
   ]
  },
  {
   "cell_type": "markdown",
   "metadata": {},
   "source": [
    "This notebook **assume** that you have:\n",
    "- declared the `ROMI_DB` environment variable as the path to the database directory to use\n",
    "- processed the test dataset with the _geometric pipeline,_ so we can access the fileset containing the data we want to start with..."
   ]
  },
  {
   "cell_type": "markdown",
   "metadata": {},
   "source": [
    "Remember, the aim of this notebook is to show you how it works \"under the hood\".\n",
    "This is not how you should process your data, that is done thanks to the `romi_run_task` CLI tool."
   ]
  },
  {
   "cell_type": "code",
   "execution_count": null,
   "metadata": {
    "ExecuteTime": {
     "end_time": "2023-06-19T16:20:57.023842783Z",
     "start_time": "2023-06-19T16:20:54.920233615Z"
    },
    "execution": {
     "iopub.execute_input": "2023-06-22T14:22:32.140811Z",
     "iopub.status.busy": "2023-06-22T14:22:32.140120Z",
     "iopub.status.idle": "2023-06-22T14:22:34.217320Z",
     "shell.execute_reply": "2023-06-22T14:22:34.216734Z"
    }
   },
   "outputs": [],
   "source": [
    "import os\n",
    "\n",
    "import ipywidgets as widgets\n",
    "from plant3dvision.cl import Backprojection\n",
    "from plant3dvision.visu import plotly_volume_slicer, plotly_image_carousel\n",
    "from plantdb import FSDB"
   ]
  },
  {
   "cell_type": "markdown",
   "metadata": {},
   "source": [
    "## Connect to the database & get the initial data"
   ]
  },
  {
   "cell_type": "markdown",
   "metadata": {},
   "source": [
    "If you did not declare a `ROMI_DB` environment variable, you can do it by uncommenting the next cell and setting it to the right value."
   ]
  },
  {
   "cell_type": "code",
   "execution_count": null,
   "metadata": {
    "ExecuteTime": {
     "end_time": "2023-06-19T15:49:18.807236909Z",
     "start_time": "2023-06-19T15:49:18.798603184Z"
    },
    "execution": {
     "iopub.execute_input": "2023-06-22T14:22:34.219315Z",
     "iopub.status.busy": "2023-06-22T14:22:34.219057Z",
     "iopub.status.idle": "2023-06-22T14:22:34.221481Z",
     "shell.execute_reply": "2023-06-22T14:22:34.221069Z"
    }
   },
   "outputs": [],
   "source": [
    "# os.environ['ROMI_DB'] = \"/path/to/test/data\""
   ]
  },
  {
   "cell_type": "markdown",
   "metadata": {},
   "source": [
    "### Connect to the database"
   ]
  },
  {
   "cell_type": "code",
   "execution_count": null,
   "metadata": {
    "ExecuteTime": {
     "end_time": "2023-06-06T13:44:55.318683904Z",
     "start_time": "2023-06-06T13:44:55.266804519Z"
    },
    "execution": {
     "iopub.execute_input": "2023-06-22T14:22:34.223398Z",
     "iopub.status.busy": "2023-06-22T14:22:34.223246Z",
     "iopub.status.idle": "2023-06-22T14:22:34.275507Z",
     "shell.execute_reply": "2023-06-22T14:22:34.274991Z"
    }
   },
   "outputs": [],
   "source": [
    "db = FSDB(os.environ['ROMI_DB'])  # requires definition of this environment variable!\n",
    "db.connect()"
   ]
  },
  {
   "cell_type": "markdown",
   "metadata": {},
   "source": [
    "Once you are connected to the database, you can list the available scan *dataset* with `db.list_scans()`."
   ]
  },
  {
   "cell_type": "markdown",
   "metadata": {},
   "source": [
    "### Select a dataset\n",
    "\n",
    "We now select a dataset (with the `Dropdown` widget) for the demo:"
   ]
  },
  {
   "cell_type": "code",
   "execution_count": null,
   "metadata": {
    "execution": {
     "iopub.execute_input": "2023-06-22T14:22:34.277703Z",
     "iopub.status.busy": "2023-06-22T14:22:34.277526Z",
     "iopub.status.idle": "2023-06-22T14:22:34.284154Z",
     "shell.execute_reply": "2023-06-22T14:22:34.283690Z"
    }
   },
   "outputs": [],
   "source": [
    "scan_name = widgets.Dropdown(options=db.list_scans(), value=db.list_scans()[0], description='Dataset:')\n",
    "display(scan_name)"
   ]
  },
  {
   "cell_type": "code",
   "execution_count": null,
   "metadata": {
    "execution": {
     "iopub.execute_input": "2023-06-22T14:22:34.285811Z",
     "iopub.status.busy": "2023-06-22T14:22:34.285661Z",
     "iopub.status.idle": "2023-06-22T14:22:34.287984Z",
     "shell.execute_reply": "2023-06-22T14:22:34.287580Z"
    }
   },
   "outputs": [],
   "source": [
    "scan = db.get_scan(scan_name.value)"
   ]
  },
  {
   "cell_type": "markdown",
   "metadata": {},
   "source": [
    "If you did not process this dataset yet, from the `plant3dvision` root directory, you can do it with:\n",
    "```\n",
    "romi_run_task AnglesAndInternodes $ROMI_DB/<selected_dataset> --config plant-3d-vision/configs/geom_pipe_real.toml\n",
    "```"
   ]
  },
  {
   "cell_type": "markdown",
   "metadata": {},
   "source": [
    "To list the available *filesets* in this *scan dataset*:"
   ]
  },
  {
   "cell_type": "code",
   "execution_count": null,
   "metadata": {
    "execution": {
     "iopub.execute_input": "2023-06-22T14:22:34.289620Z",
     "iopub.status.busy": "2023-06-22T14:22:34.289479Z",
     "iopub.status.idle": "2023-06-22T14:22:34.292598Z",
     "shell.execute_reply": "2023-06-22T14:22:34.292158Z"
    }
   },
   "outputs": [],
   "source": [
    "scan.list_filesets()"
   ]
  },
  {
   "cell_type": "markdown",
   "metadata": {},
   "source": [
    "### Get the binary mask images fileset\n",
    "\n",
    "The binary mask images resulting from a _Masks_ task are to be found in the 'Masks*' fileset."
   ]
  },
  {
   "cell_type": "code",
   "execution_count": null,
   "metadata": {
    "execution": {
     "iopub.execute_input": "2023-06-22T14:22:34.294095Z",
     "iopub.status.busy": "2023-06-22T14:22:34.293952Z",
     "iopub.status.idle": "2023-06-22T14:22:34.297020Z",
     "shell.execute_reply": "2023-06-22T14:22:34.296511Z"
    }
   },
   "outputs": [],
   "source": [
    "mask_fs = scan.get_filesets(query={\"task_name\": \"Masks\"})[0]\n",
    "print(mask_fs.path().stem)"
   ]
  },
  {
   "cell_type": "markdown",
   "metadata": {},
   "source": [
    "Once you have access to the 'Masks*' fileset, you may access the mask images as follows:"
   ]
  },
  {
   "cell_type": "code",
   "execution_count": null,
   "metadata": {
    "ExecuteTime": {
     "end_time": "2023-06-06T13:44:55.366830913Z",
     "start_time": "2023-06-06T13:44:55.366437504Z"
    },
    "execution": {
     "iopub.execute_input": "2023-06-22T14:22:34.298701Z",
     "iopub.status.busy": "2023-06-22T14:22:34.298542Z",
     "iopub.status.idle": "2023-06-22T14:22:34.301028Z",
     "shell.execute_reply": "2023-06-22T14:22:34.300491Z"
    }
   },
   "outputs": [],
   "source": [
    "masks_files = mask_fs.get_files()"
   ]
  },
  {
   "cell_type": "code",
   "execution_count": null,
   "metadata": {
    "execution": {
     "iopub.execute_input": "2023-06-22T14:22:34.302533Z",
     "iopub.status.busy": "2023-06-22T14:22:34.302387Z",
     "iopub.status.idle": "2023-06-22T14:22:34.305147Z",
     "shell.execute_reply": "2023-06-22T14:22:34.304731Z"
    }
   },
   "outputs": [],
   "source": [
    "print(f\"This fileset contains {len(masks_files)} files (matching the `query`).\")"
   ]
  },
  {
   "cell_type": "markdown",
   "metadata": {},
   "source": [
    "### Visualize the set of mask images\n",
    "\n",
    "It is possible to visualize the set of RGB images using our `plotly_image_carousel` method."
   ]
  },
  {
   "cell_type": "code",
   "execution_count": null,
   "metadata": {
    "ExecuteTime": {
     "end_time": "2023-06-06T13:44:55.707172045Z",
     "start_time": "2023-06-06T13:44:55.366700894Z"
    },
    "execution": {
     "iopub.execute_input": "2023-06-22T14:22:34.306894Z",
     "iopub.status.busy": "2023-06-22T14:22:34.306679Z",
     "iopub.status.idle": "2023-06-22T14:22:37.349142Z",
     "shell.execute_reply": "2023-06-22T14:22:37.348474Z"
    }
   },
   "outputs": [],
   "source": [
    "fig = plotly_image_carousel(masks_files, title=scan_name.value)"
   ]
  },
  {
   "cell_type": "code",
   "execution_count": null,
   "metadata": {
    "execution": {
     "iopub.execute_input": "2023-06-22T14:22:37.351172Z",
     "iopub.status.busy": "2023-06-22T14:22:37.350992Z",
     "iopub.status.idle": "2023-06-22T14:22:37.429168Z",
     "shell.execute_reply": "2023-06-22T14:22:37.428652Z"
    }
   },
   "outputs": [],
   "source": [
    "fig.show()"
   ]
  },
  {
   "cell_type": "markdown",
   "metadata": {},
   "source": [
    "## Reconstruct the volume"
   ]
  },
  {
   "cell_type": "markdown",
   "metadata": {},
   "source": [
    "### Define the voxel carving parameters\n",
    "\n",
    "We start by defining what part of the scene, as estimated by Colmap, we would like to reconstruct as a volume.\n",
    "Obviously this volume should contain the plant.\n",
    "\n",
    "Finding those parameters' value can be done by using the reconstructed sparse point cloud.\n",
    "A good acquisition setup will help in preventing the need to re-estimate these for every acquisition."
   ]
  },
  {
   "cell_type": "code",
   "execution_count": null,
   "metadata": {
    "ExecuteTime": {
     "end_time": "2023-06-06T13:44:55.707890762Z",
     "start_time": "2023-06-06T13:44:55.706936874Z"
    },
    "execution": {
     "iopub.execute_input": "2023-06-22T14:22:37.448956Z",
     "iopub.status.busy": "2023-06-22T14:22:37.448557Z",
     "iopub.status.idle": "2023-06-22T14:22:37.451457Z",
     "shell.execute_reply": "2023-06-22T14:22:37.451027Z"
    }
   },
   "outputs": [],
   "source": [
    "bounding_box = {\n",
    "    \"x\": [300, 450],\n",
    "    \"y\": [300, 450],\n",
    "    \"z\": [-175, 100],\n",
    "}\n",
    "voxel_size = 0.5"
   ]
  },
  {
   "cell_type": "markdown",
   "metadata": {},
   "source": [
    "### Define the shape & origin of the voxel array"
   ]
  },
  {
   "cell_type": "code",
   "execution_count": null,
   "metadata": {
    "ExecuteTime": {
     "end_time": "2023-06-06T13:44:55.707970556Z",
     "start_time": "2023-06-06T13:44:55.707308051Z"
    },
    "execution": {
     "iopub.execute_input": "2023-06-22T14:22:37.453066Z",
     "iopub.status.busy": "2023-06-22T14:22:37.452925Z",
     "iopub.status.idle": "2023-06-22T14:22:37.455535Z",
     "shell.execute_reply": "2023-06-22T14:22:37.455202Z"
    }
   },
   "outputs": [],
   "source": [
    "x_min, x_max = bounding_box[\"x\"]\n",
    "y_min, y_max = bounding_box[\"y\"]\n",
    "z_min, z_max = bounding_box[\"z\"]\n",
    "\n",
    "nx = int((x_max - x_min) / voxel_size) + 1\n",
    "ny = int((y_max - y_min) / voxel_size) + 1\n",
    "nz = int((z_max - z_min) / voxel_size) + 1"
   ]
  },
  {
   "cell_type": "markdown",
   "metadata": {},
   "source": [
    "### Perform volume carving\n",
    "\n",
    "You may notice we **do not** have to provide the camera poses estimated by the `Colmap` task.\n",
    "These estimated poses are saved as metadata and are accessed directly by `plant3dvision.cl.Backprojection`."
   ]
  },
  {
   "cell_type": "code",
   "execution_count": null,
   "metadata": {
    "ExecuteTime": {
     "end_time": "2023-06-06T13:44:55.814385316Z",
     "start_time": "2023-06-06T13:44:55.707524298Z"
    },
    "execution": {
     "iopub.execute_input": "2023-06-22T14:22:37.456988Z",
     "iopub.status.busy": "2023-06-22T14:22:37.456851Z",
     "iopub.status.idle": "2023-06-22T14:22:37.972624Z",
     "shell.execute_reply": "2023-06-22T14:22:37.972024Z"
    }
   },
   "outputs": [],
   "source": [
    "space_carving = Backprojection(shape=[nx, ny, nz], origin=[x_min, y_min, z_min], voxel_size=voxel_size)"
   ]
  },
  {
   "cell_type": "code",
   "execution_count": null,
   "metadata": {
    "ExecuteTime": {
     "end_time": "2023-06-06T13:44:56.831283323Z",
     "start_time": "2023-06-06T13:44:55.817876472Z"
    },
    "execution": {
     "iopub.execute_input": "2023-06-22T14:22:37.974498Z",
     "iopub.status.busy": "2023-06-22T14:22:37.974350Z",
     "iopub.status.idle": "2023-06-22T14:22:39.214342Z",
     "shell.execute_reply": "2023-06-22T14:22:39.213818Z"
    }
   },
   "outputs": [],
   "source": [
    "vol = space_carving.process_fileset(masks_files, camera_metadata='colmap_camera')"
   ]
  },
  {
   "cell_type": "markdown",
   "metadata": {},
   "source": [
    "### Visualize the carved volume\n",
    "\n",
    "Once the volume carving is done, you may visualize it with the `plotly_volume_slicer` from `plant3dvision.visu` as follows:"
   ]
  },
  {
   "cell_type": "code",
   "execution_count": null,
   "metadata": {
    "ExecuteTime": {
     "end_time": "2023-06-06T13:44:57.224957641Z",
     "start_time": "2023-06-06T13:44:56.847084508Z"
    },
    "execution": {
     "iopub.execute_input": "2023-06-22T14:22:39.216293Z",
     "iopub.status.busy": "2023-06-22T14:22:39.216078Z",
     "iopub.status.idle": "2023-06-22T14:22:41.889650Z",
     "shell.execute_reply": "2023-06-22T14:22:41.889073Z"
    }
   },
   "outputs": [],
   "source": [
    "fig = plotly_volume_slicer(vol)\n",
    "fig.show()"
   ]
  },
  {
   "cell_type": "markdown",
   "metadata": {},
   "source": [
    "We may now **disconnect** from the database as we will not need it anymore:"
   ]
  },
  {
   "cell_type": "code",
   "execution_count": null,
   "metadata": {
    "ExecuteTime": {
     "end_time": "2023-06-06T13:44:57.229029028Z",
     "start_time": "2023-06-06T13:44:57.226705732Z"
    },
    "execution": {
     "iopub.execute_input": "2023-06-22T14:22:41.903547Z",
     "iopub.status.busy": "2023-06-22T14:22:41.903377Z",
     "iopub.status.idle": "2023-06-22T14:22:41.906486Z",
     "shell.execute_reply": "2023-06-22T14:22:41.906117Z"
    }
   },
   "outputs": [],
   "source": [
    "db.disconnect()"
   ]
  },
  {
   "cell_type": "code",
   "execution_count": null,
   "metadata": {},
   "outputs": [],
   "source": []
  }
 ],
 "metadata": {
  "kernelspec": {
   "display_name": "Python 3 (ipykernel)",
   "language": "python",
   "name": "python3"
  },
  "language_info": {
   "codemirror_mode": {
    "name": "ipython",
    "version": 3
   },
   "file_extension": ".py",
   "mimetype": "text/x-python",
   "name": "python",
   "nbconvert_exporter": "python",
   "pygments_lexer": "ipython3",
   "version": "3.9.16"
  },
  "widgets": {
   "application/vnd.jupyter.widget-state+json": {
    "state": {
     "9c0526b4dbfe43108c1440e71d27c6d4": {
      "model_module": "@jupyter-widgets/base",
      "model_module_version": "2.0.0",
      "model_name": "LayoutModel",
      "state": {
       "_model_module": "@jupyter-widgets/base",
       "_model_module_version": "2.0.0",
       "_model_name": "LayoutModel",
       "_view_count": null,
       "_view_module": "@jupyter-widgets/base",
       "_view_module_version": "2.0.0",
       "_view_name": "LayoutView",
       "align_content": null,
       "align_items": null,
       "align_self": null,
       "border_bottom": null,
       "border_left": null,
       "border_right": null,
       "border_top": null,
       "bottom": null,
       "display": null,
       "flex": null,
       "flex_flow": null,
       "grid_area": null,
       "grid_auto_columns": null,
       "grid_auto_flow": null,
       "grid_auto_rows": null,
       "grid_column": null,
       "grid_gap": null,
       "grid_row": null,
       "grid_template_areas": null,
       "grid_template_columns": null,
       "grid_template_rows": null,
       "height": null,
       "justify_content": null,
       "justify_items": null,
       "left": null,
       "margin": null,
       "max_height": null,
       "max_width": null,
       "min_height": null,
       "min_width": null,
       "object_fit": null,
       "object_position": null,
       "order": null,
       "overflow": null,
       "padding": null,
       "right": null,
       "top": null,
       "visibility": null,
       "width": null
      }
     },
     "bd293d601dd1415d9572a7bd9f6cd611": {
      "model_module": "@jupyter-widgets/controls",
      "model_module_version": "2.0.0",
      "model_name": "DescriptionStyleModel",
      "state": {
       "_model_module": "@jupyter-widgets/controls",
       "_model_module_version": "2.0.0",
       "_model_name": "DescriptionStyleModel",
       "_view_count": null,
       "_view_module": "@jupyter-widgets/base",
       "_view_module_version": "2.0.0",
       "_view_name": "StyleView",
       "description_width": ""
      }
     },
     "ec20936381fb4fe698bf3503a196866d": {
      "model_module": "@jupyter-widgets/controls",
      "model_module_version": "2.0.0",
      "model_name": "DropdownModel",
      "state": {
       "_dom_classes": [],
       "_model_module": "@jupyter-widgets/controls",
       "_model_module_version": "2.0.0",
       "_model_name": "DropdownModel",
       "_options_labels": [
        "Col0_20220803_2_1_calib_geom_4_marche",
        "Ler_20220803_1_1_calib_geom_3",
        "Ler_20220803_2_1"
       ],
       "_view_count": null,
       "_view_module": "@jupyter-widgets/controls",
       "_view_module_version": "2.0.0",
       "_view_name": "DropdownView",
       "description": "Dataset:",
       "description_allow_html": false,
       "disabled": false,
       "index": 0,
       "layout": "IPY_MODEL_9c0526b4dbfe43108c1440e71d27c6d4",
       "style": "IPY_MODEL_bd293d601dd1415d9572a7bd9f6cd611",
       "tabbable": null,
       "tooltip": null
      }
     }
    },
    "version_major": 2,
    "version_minor": 0
   }
  }
 },
 "nbformat": 4,
 "nbformat_minor": 1
}
